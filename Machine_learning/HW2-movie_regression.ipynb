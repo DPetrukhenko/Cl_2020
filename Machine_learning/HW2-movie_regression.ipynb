{
 "cells": [
  {
   "cell_type": "markdown",
   "metadata": {},
   "source": [
    "## Регрессия на imdb"
   ]
  },
  {
   "cell_type": "code",
   "execution_count": 65,
   "metadata": {
    "execution": {
     "iopub.execute_input": "2021-05-31T09:45:50.497623Z",
     "iopub.status.busy": "2021-05-31T09:45:50.497256Z",
     "iopub.status.idle": "2021-05-31T09:45:50.511086Z",
     "shell.execute_reply": "2021-05-31T09:45:50.509306Z",
     "shell.execute_reply.started": "2021-05-31T09:45:50.497586Z"
    },
    "tags": []
   },
   "outputs": [],
   "source": [
    "# ячейка импортов\n",
    "import pandas as pd\n",
    "import numpy as np\n",
    "\n",
    "from sklearn.model_selection import train_test_split\n",
    "from sklearn.metrics import mean_absolute_error, mean_squared_error, r2_score\n",
    "from statsmodels.stats.outliers_influence import variance_inflation_factor\n",
    "\n",
    "from sklearn.linear_model import LinearRegression, Ridge, Lasso, ElasticNet\n",
    "from sklearn.preprocessing import StandardScaler\n",
    "import scipy\n",
    "import pingouin as pg\n",
    "import warnings\n",
    "warnings.filterwarnings('ignore')"
   ]
  },
  {
   "cell_type": "code",
   "execution_count": 3,
   "metadata": {
    "execution": {
     "iopub.execute_input": "2021-05-31T09:11:57.427222Z",
     "iopub.status.busy": "2021-05-31T09:11:57.425767Z",
     "iopub.status.idle": "2021-05-31T09:11:57.433759Z",
     "shell.execute_reply": "2021-05-31T09:11:57.431349Z",
     "shell.execute_reply.started": "2021-05-31T09:11:57.427157Z"
    },
    "tags": []
   },
   "outputs": [],
   "source": [
    "import matplotlib.pyplot as plt\n",
    "import seaborn as sns"
   ]
  },
  {
   "cell_type": "code",
   "execution_count": 4,
   "metadata": {
    "execution": {
     "iopub.execute_input": "2021-05-31T09:11:57.437150Z",
     "iopub.status.busy": "2021-05-31T09:11:57.436813Z",
     "iopub.status.idle": "2021-05-31T09:11:57.494368Z",
     "shell.execute_reply": "2021-05-31T09:11:57.491388Z",
     "shell.execute_reply.started": "2021-05-31T09:11:57.437110Z"
    },
    "tags": []
   },
   "outputs": [
    {
     "name": "stdout",
     "output_type": "stream",
     "text": [
      "<class 'pandas.core.frame.DataFrame'>\n",
      "RangeIndex: 1000 entries, 0 to 999\n",
      "Data columns (total 12 columns):\n",
      " #   Column              Non-Null Count  Dtype  \n",
      "---  ------              --------------  -----  \n",
      " 0   Rank                1000 non-null   int64  \n",
      " 1   Title               1000 non-null   object \n",
      " 2   Genre               1000 non-null   object \n",
      " 3   Description         1000 non-null   object \n",
      " 4   Director            1000 non-null   object \n",
      " 5   Actors              1000 non-null   object \n",
      " 6   Year                1000 non-null   int64  \n",
      " 7   Runtime (Minutes)   1000 non-null   int64  \n",
      " 8   Rating              1000 non-null   float64\n",
      " 9   Votes               1000 non-null   int64  \n",
      " 10  Revenue (Millions)  872 non-null    float64\n",
      " 11  Metascore           936 non-null    float64\n",
      "dtypes: float64(3), int64(4), object(5)\n",
      "memory usage: 93.9+ KB\n"
     ]
    }
   ],
   "source": [
    "data = pd.read_csv('IMDB-Movie-Data.csv')\n",
    "\n",
    "data.info()"
   ]
  },
  {
   "cell_type": "markdown",
   "metadata": {},
   "source": [
    "## Регрессии:"
   ]
  },
  {
   "cell_type": "markdown",
   "metadata": {},
   "source": [
    "В этом датасете для регрессии есть несколько опций, выбирайте то, что более интересно: \n",
    "\n",
    "- определить рейтинг по описанию фильма\n",
    "- определить длительность фильма по году создания\n",
    "- определить рейтинг по длине фильма\n",
    "- Ваша идея"
   ]
  },
  {
   "cell_type": "markdown",
   "metadata": {},
   "source": [
    "Шаги выполнения: \n",
    "- Определите, какие части датасета необходимы для вашей задачи\n",
    "- Если работаете с текстовыми ячейками, векторизуйте тексты\n",
    "- Разделите данные на обучающую и тестовую выборку\n",
    "- Попробуйте обучить [разные регрессионные модели](https://scikit-learn.org/stable/modules/classes.html#module-sklearn.linear_model) (не забудьте импортировать их в эту тетрадку)\n",
    "\n",
    "- Для каждой модели посмотрите на метрики. \n",
    "\n",
    "Какая/какие модель/ли справляются с выбранной Вами задачей наиболее эффективно?"
   ]
  },
  {
   "cell_type": "code",
   "execution_count": 47,
   "metadata": {
    "execution": {
     "iopub.execute_input": "2021-05-31T09:22:07.202058Z",
     "iopub.status.busy": "2021-05-31T09:22:07.201168Z",
     "iopub.status.idle": "2021-05-31T09:22:07.210776Z",
     "shell.execute_reply": "2021-05-31T09:22:07.208577Z",
     "shell.execute_reply.started": "2021-05-31T09:22:07.201974Z"
    },
    "tags": []
   },
   "outputs": [],
   "source": [
    "# колонки для предсказания; попробуем предсказать оценку фильма по выручке и оценке критиков.\n",
    "data_learn = data[['Metascore', 'Revenue (Millions)', 'Rating']]"
   ]
  },
  {
   "cell_type": "code",
   "execution_count": 48,
   "metadata": {
    "execution": {
     "iopub.execute_input": "2021-05-31T09:22:15.386404Z",
     "iopub.status.busy": "2021-05-31T09:22:15.386040Z",
     "iopub.status.idle": "2021-05-31T09:22:15.403143Z",
     "shell.execute_reply": "2021-05-31T09:22:15.400514Z",
     "shell.execute_reply.started": "2021-05-31T09:22:15.386366Z"
    },
    "tags": []
   },
   "outputs": [
    {
     "name": "stdout",
     "output_type": "stream",
     "text": [
      "<class 'pandas.core.frame.DataFrame'>\n",
      "RangeIndex: 1000 entries, 0 to 999\n",
      "Data columns (total 3 columns):\n",
      " #   Column              Non-Null Count  Dtype  \n",
      "---  ------              --------------  -----  \n",
      " 0   Metascore           936 non-null    float64\n",
      " 1   Revenue (Millions)  872 non-null    float64\n",
      " 2   Rating              1000 non-null   float64\n",
      "dtypes: float64(3)\n",
      "memory usage: 23.6 KB\n"
     ]
    }
   ],
   "source": [
    "data_learn.info()"
   ]
  },
  {
   "cell_type": "markdown",
   "metadata": {},
   "source": [
    "Есть пустые значения, надо убрать строки с ними."
   ]
  },
  {
   "cell_type": "code",
   "execution_count": 49,
   "metadata": {
    "execution": {
     "iopub.execute_input": "2021-05-31T09:22:22.242955Z",
     "iopub.status.busy": "2021-05-31T09:22:22.242534Z",
     "iopub.status.idle": "2021-05-31T09:22:22.250843Z",
     "shell.execute_reply": "2021-05-31T09:22:22.249220Z",
     "shell.execute_reply.started": "2021-05-31T09:22:22.242916Z"
    },
    "tags": []
   },
   "outputs": [],
   "source": [
    "data_learn = data_learn.dropna()"
   ]
  },
  {
   "cell_type": "code",
   "execution_count": 50,
   "metadata": {
    "execution": {
     "iopub.execute_input": "2021-05-31T09:22:23.094938Z",
     "iopub.status.busy": "2021-05-31T09:22:23.094118Z",
     "iopub.status.idle": "2021-05-31T09:22:23.139166Z",
     "shell.execute_reply": "2021-05-31T09:22:23.137652Z",
     "shell.execute_reply.started": "2021-05-31T09:22:23.094870Z"
    },
    "tags": []
   },
   "outputs": [
    {
     "data": {
      "text/html": [
       "<div>\n",
       "<style scoped>\n",
       "    .dataframe tbody tr th:only-of-type {\n",
       "        vertical-align: middle;\n",
       "    }\n",
       "\n",
       "    .dataframe tbody tr th {\n",
       "        vertical-align: top;\n",
       "    }\n",
       "\n",
       "    .dataframe thead th {\n",
       "        text-align: right;\n",
       "    }\n",
       "</style>\n",
       "<table border=\"1\" class=\"dataframe\">\n",
       "  <thead>\n",
       "    <tr style=\"text-align: right;\">\n",
       "      <th></th>\n",
       "      <th>Metascore</th>\n",
       "      <th>Revenue (Millions)</th>\n",
       "      <th>Rating</th>\n",
       "    </tr>\n",
       "  </thead>\n",
       "  <tbody>\n",
       "    <tr>\n",
       "      <th>count</th>\n",
       "      <td>838.000000</td>\n",
       "      <td>838.000000</td>\n",
       "      <td>838.000000</td>\n",
       "    </tr>\n",
       "    <tr>\n",
       "      <th>mean</th>\n",
       "      <td>59.575179</td>\n",
       "      <td>84.564558</td>\n",
       "      <td>6.814320</td>\n",
       "    </tr>\n",
       "    <tr>\n",
       "      <th>std</th>\n",
       "      <td>16.952416</td>\n",
       "      <td>104.520227</td>\n",
       "      <td>0.877754</td>\n",
       "    </tr>\n",
       "    <tr>\n",
       "      <th>min</th>\n",
       "      <td>11.000000</td>\n",
       "      <td>0.000000</td>\n",
       "      <td>1.900000</td>\n",
       "    </tr>\n",
       "    <tr>\n",
       "      <th>25%</th>\n",
       "      <td>47.000000</td>\n",
       "      <td>13.967500</td>\n",
       "      <td>6.300000</td>\n",
       "    </tr>\n",
       "    <tr>\n",
       "      <th>50%</th>\n",
       "      <td>60.000000</td>\n",
       "      <td>48.150000</td>\n",
       "      <td>6.900000</td>\n",
       "    </tr>\n",
       "    <tr>\n",
       "      <th>75%</th>\n",
       "      <td>72.000000</td>\n",
       "      <td>116.800000</td>\n",
       "      <td>7.500000</td>\n",
       "    </tr>\n",
       "    <tr>\n",
       "      <th>max</th>\n",
       "      <td>100.000000</td>\n",
       "      <td>936.630000</td>\n",
       "      <td>9.000000</td>\n",
       "    </tr>\n",
       "  </tbody>\n",
       "</table>\n",
       "</div>"
      ],
      "text/plain": [
       "        Metascore  Revenue (Millions)      Rating\n",
       "count  838.000000          838.000000  838.000000\n",
       "mean    59.575179           84.564558    6.814320\n",
       "std     16.952416          104.520227    0.877754\n",
       "min     11.000000            0.000000    1.900000\n",
       "25%     47.000000           13.967500    6.300000\n",
       "50%     60.000000           48.150000    6.900000\n",
       "75%     72.000000          116.800000    7.500000\n",
       "max    100.000000          936.630000    9.000000"
      ]
     },
     "execution_count": 50,
     "metadata": {},
     "output_type": "execute_result"
    }
   ],
   "source": [
    "data_learn.describe()"
   ]
  },
  {
   "cell_type": "code",
   "execution_count": 79,
   "metadata": {
    "execution": {
     "iopub.execute_input": "2021-05-31T09:59:10.004468Z",
     "iopub.status.busy": "2021-05-31T09:59:10.004142Z",
     "iopub.status.idle": "2021-05-31T09:59:10.865118Z",
     "shell.execute_reply": "2021-05-31T09:59:10.863436Z",
     "shell.execute_reply.started": "2021-05-31T09:59:10.004433Z"
    },
    "tags": []
   },
   "outputs": [
    {
     "data": {
      "image/png": "[encoded data removed]",
      "text/plain": [
       "<Figure size 432x288 with 1 Axes>"
      ]
     },
     "metadata": {
      "needs_background": "light"
     },
     "output_type": "display_data"
    },
    {
     "data": {
      "image/png": "[encoded data removed]",
      "text/plain": [
       "<Figure size 432x288 with 1 Axes>"
      ]
     },
     "metadata": {
      "needs_background": "light"
     },
     "output_type": "display_data"
    },
    {
     "data": {
      "image/png": "[encoded data removed]",
      "text/plain": [
       "<Figure size 432x288 with 1 Axes>"
      ]
     },
     "metadata": {
      "needs_background": "light"
     },
     "output_type": "display_data"
    }
   ],
   "source": [
    "for column in data_learn.columns:\n",
    "    plt.figure()             \n",
    "    sns.histplot(data_learn[column], bins=20, kde=True)"
   ]
  },
  {
   "cell_type": "markdown",
   "metadata": {},
   "source": [
    "Рейтинг и метаоценки распределены близко к нормальному, доход - логнормально."
   ]
  },
  {
   "cell_type": "code",
   "execution_count": 52,
   "metadata": {
    "execution": {
     "iopub.execute_input": "2021-05-31T09:23:04.484669Z",
     "iopub.status.busy": "2021-05-31T09:23:04.484298Z",
     "iopub.status.idle": "2021-05-31T09:23:04.820695Z",
     "shell.execute_reply": "2021-05-31T09:23:04.819714Z",
     "shell.execute_reply.started": "2021-05-31T09:23:04.484620Z"
    },
    "tags": []
   },
   "outputs": [
    {
     "data": {
      "image/png": "[encoded data removed]",
      "text/plain": [
       "<Figure size 432x288 with 2 Axes>"
      ]
     },
     "metadata": {
      "needs_background": "light"
     },
     "output_type": "display_data"
    }
   ],
   "source": [
    "sns.heatmap(data=data_learn.corr(), annot=True, cmap= \"viridis\") \n",
    "\n",
    "plt.suptitle(\"Корреляция признаков\")\n",
    "plt.show()"
   ]
  },
  {
   "cell_type": "markdown",
   "metadata": {},
   "source": [
    "Больше всего коррелирует с ретингом метаоценка. Можно посмотреть на график с регрессионной прямой.  "
   ]
  },
  {
   "cell_type": "code",
   "execution_count": 83,
   "metadata": {
    "execution": {
     "iopub.execute_input": "2021-05-31T10:02:18.155973Z",
     "iopub.status.busy": "2021-05-31T10:02:18.155472Z",
     "iopub.status.idle": "2021-05-31T10:02:18.181782Z",
     "shell.execute_reply": "2021-05-31T10:02:18.179905Z",
     "shell.execute_reply.started": "2021-05-31T10:02:18.155887Z"
    },
    "tags": []
   },
   "outputs": [],
   "source": [
    "slope, intercept, r, p, stderr = scipy.stats.linregress(data_learn['Metascore'], data_learn['Rating'])\n",
    "line = f'Regression line: y={intercept:.2f}+{slope:.2f}x, r={r:.2f}'"
   ]
  },
  {
   "cell_type": "code",
   "execution_count": 84,
   "metadata": {
    "execution": {
     "iopub.execute_input": "2021-05-31T10:02:18.226584Z",
     "iopub.status.busy": "2021-05-31T10:02:18.225873Z",
     "iopub.status.idle": "2021-05-31T10:02:18.549372Z",
     "shell.execute_reply": "2021-05-31T10:02:18.548188Z",
     "shell.execute_reply.started": "2021-05-31T10:02:18.226517Z"
    },
    "tags": []
   },
   "outputs": [
    {
     "data": {
      "image/png": "[encoded data removed]",
      "text/plain": [
       "<Figure size 720x432 with 1 Axes>"
      ]
     },
     "metadata": {
      "needs_background": "light"
     },
     "output_type": "display_data"
    }
   ],
   "source": [
    "fig, ax = plt.subplots(figsize=(10, 6))\n",
    "ax.plot(data_learn['Metascore'], data_learn['Rating'], linewidth=0, marker='s', label='Real data')\n",
    "ax.plot(data_learn['Metascore'], intercept + slope * data_learn['Metascore'], label=line)\n",
    "ax.set_xlabel('Metascore')\n",
    "ax.set_ylabel('Rating')\n",
    "ax.legend(facecolor='white')\n",
    "plt.show()"
   ]
  },
  {
   "cell_type": "code",
   "execution_count": 53,
   "metadata": {
    "execution": {
     "iopub.execute_input": "2021-05-31T09:23:21.373515Z",
     "iopub.status.busy": "2021-05-31T09:23:21.372960Z",
     "iopub.status.idle": "2021-05-31T09:23:21.504478Z",
     "shell.execute_reply": "2021-05-31T09:23:21.500117Z",
     "shell.execute_reply.started": "2021-05-31T09:23:21.373455Z"
    },
    "tags": []
   },
   "outputs": [
    {
     "data": {
      "text/html": [
       "<div>\n",
       "<style scoped>\n",
       "    .dataframe tbody tr th:only-of-type {\n",
       "        vertical-align: middle;\n",
       "    }\n",
       "\n",
       "    .dataframe tbody tr th {\n",
       "        vertical-align: top;\n",
       "    }\n",
       "\n",
       "    .dataframe thead th {\n",
       "        text-align: right;\n",
       "    }\n",
       "</style>\n",
       "<table border=\"1\" class=\"dataframe\">\n",
       "  <thead>\n",
       "    <tr style=\"text-align: right;\">\n",
       "      <th></th>\n",
       "      <th>X</th>\n",
       "      <th>Y</th>\n",
       "      <th>method</th>\n",
       "      <th>tail</th>\n",
       "      <th>n</th>\n",
       "      <th>r</th>\n",
       "      <th>CI95%</th>\n",
       "      <th>p-unc</th>\n",
       "      <th>p-corr</th>\n",
       "      <th>p-adjust</th>\n",
       "      <th>power</th>\n",
       "    </tr>\n",
       "  </thead>\n",
       "  <tbody>\n",
       "    <tr>\n",
       "      <th>0</th>\n",
       "      <td>Metascore</td>\n",
       "      <td>Revenue (Millions)</td>\n",
       "      <td>spearman</td>\n",
       "      <td>two-sided</td>\n",
       "      <td>838</td>\n",
       "      <td>0.054</td>\n",
       "      <td>[-0.01, 0.12]</td>\n",
       "      <td>0.119</td>\n",
       "      <td>0.119</td>\n",
       "      <td>holm</td>\n",
       "      <td>0.344</td>\n",
       "    </tr>\n",
       "    <tr>\n",
       "      <th>1</th>\n",
       "      <td>Metascore</td>\n",
       "      <td>Rating</td>\n",
       "      <td>spearman</td>\n",
       "      <td>two-sided</td>\n",
       "      <td>838</td>\n",
       "      <td>0.698</td>\n",
       "      <td>[0.66, 0.73]</td>\n",
       "      <td>0.000</td>\n",
       "      <td>0.000</td>\n",
       "      <td>holm</td>\n",
       "      <td>1.000</td>\n",
       "    </tr>\n",
       "    <tr>\n",
       "      <th>2</th>\n",
       "      <td>Revenue (Millions)</td>\n",
       "      <td>Rating</td>\n",
       "      <td>spearman</td>\n",
       "      <td>two-sided</td>\n",
       "      <td>838</td>\n",
       "      <td>0.155</td>\n",
       "      <td>[0.09, 0.22]</td>\n",
       "      <td>0.000</td>\n",
       "      <td>0.000</td>\n",
       "      <td>holm</td>\n",
       "      <td>0.995</td>\n",
       "    </tr>\n",
       "  </tbody>\n",
       "</table>\n",
       "</div>"
      ],
      "text/plain": [
       "                    X                   Y    method       tail    n      r  \\\n",
       "0           Metascore  Revenue (Millions)  spearman  two-sided  838  0.054   \n",
       "1           Metascore              Rating  spearman  two-sided  838  0.698   \n",
       "2  Revenue (Millions)              Rating  spearman  two-sided  838  0.155   \n",
       "\n",
       "           CI95%  p-unc  p-corr p-adjust  power  \n",
       "0  [-0.01, 0.12]  0.119   0.119     holm  0.344  \n",
       "1   [0.66, 0.73]  0.000   0.000     holm  1.000  \n",
       "2   [0.09, 0.22]  0.000   0.000     holm  0.995  "
      ]
     },
     "execution_count": 53,
     "metadata": {},
     "output_type": "execute_result"
    }
   ],
   "source": [
    "pairwise = data_learn.pairwise_corr(method='spearman',\n",
    "                                         padjust='holm')\n",
    "pairwise.round(3)"
   ]
  },
  {
   "cell_type": "code",
   "execution_count": 64,
   "metadata": {
    "execution": {
     "iopub.execute_input": "2021-05-31T09:45:31.480993Z",
     "iopub.status.busy": "2021-05-31T09:45:31.480227Z",
     "iopub.status.idle": "2021-05-31T09:45:31.543410Z",
     "shell.execute_reply": "2021-05-31T09:45:31.542058Z",
     "shell.execute_reply.started": "2021-05-31T09:45:31.480917Z"
    },
    "tags": []
   },
   "outputs": [
    {
     "data": {
      "text/html": [
       "<div>\n",
       "<style scoped>\n",
       "    .dataframe tbody tr th:only-of-type {\n",
       "        vertical-align: middle;\n",
       "    }\n",
       "\n",
       "    .dataframe tbody tr th {\n",
       "        vertical-align: top;\n",
       "    }\n",
       "\n",
       "    .dataframe thead th {\n",
       "        text-align: right;\n",
       "    }\n",
       "</style>\n",
       "<table border=\"1\" class=\"dataframe\">\n",
       "  <thead>\n",
       "    <tr style=\"text-align: right;\">\n",
       "      <th></th>\n",
       "      <th>feature</th>\n",
       "      <th>VIF</th>\n",
       "    </tr>\n",
       "  </thead>\n",
       "  <tbody>\n",
       "    <tr>\n",
       "      <th>0</th>\n",
       "      <td>Revenue (Millions)</td>\n",
       "      <td>1.677424</td>\n",
       "    </tr>\n",
       "    <tr>\n",
       "      <th>1</th>\n",
       "      <td>Metascore</td>\n",
       "      <td>1.677424</td>\n",
       "    </tr>\n",
       "  </tbody>\n",
       "</table>\n",
       "</div>"
      ],
      "text/plain": [
       "              feature       VIF\n",
       "0  Revenue (Millions)  1.677424\n",
       "1           Metascore  1.677424"
      ]
     },
     "execution_count": 64,
     "metadata": {},
     "output_type": "execute_result"
    }
   ],
   "source": [
    "vif_data = pd.DataFrame()\n",
    "vif_data[\"feature\"] = data_learn[['Revenue (Millions)', 'Metascore']].columns\n",
    "vif_data[\"VIF\"] = [variance_inflation_factor(data_learn[['Revenue (Millions)', 'Metascore']].values, i)\n",
    "                          for i in range(len(data_learn[['Revenue (Millions)', 'Metascore']].columns))]\n",
    "  \n",
    "vif_data"
   ]
  },
  {
   "cell_type": "markdown",
   "metadata": {},
   "source": [
    "p-value для пар metascore-rating и revenue-rating ниже уровня альфа, значит, корреляция является статистически значимой, а предикторы между собой значимо не коррелируют. Соблюдается допущение линейной регрессии о не мультиколлинеарности."
   ]
  },
  {
   "cell_type": "code",
   "execution_count": 80,
   "metadata": {
    "execution": {
     "iopub.execute_input": "2021-05-31T10:00:36.832755Z",
     "iopub.status.busy": "2021-05-31T10:00:36.832392Z",
     "iopub.status.idle": "2021-05-31T10:00:36.843536Z",
     "shell.execute_reply": "2021-05-31T10:00:36.841577Z",
     "shell.execute_reply.started": "2021-05-31T10:00:36.832718Z"
    },
    "tags": []
   },
   "outputs": [],
   "source": [
    "X = data_learn[['Revenue (Millions)', 'Metascore']].values\n",
    "y = data_learn['Rating'].values"
   ]
  },
  {
   "cell_type": "code",
   "execution_count": 81,
   "metadata": {
    "execution": {
     "iopub.execute_input": "2021-05-31T10:00:37.581526Z",
     "iopub.status.busy": "2021-05-31T10:00:37.581093Z",
     "iopub.status.idle": "2021-05-31T10:00:37.615623Z",
     "shell.execute_reply": "2021-05-31T10:00:37.613097Z",
     "shell.execute_reply.started": "2021-05-31T10:00:37.581480Z"
    },
    "tags": []
   },
   "outputs": [],
   "source": [
    "X_train, X_test, y_train, y_test = train_test_split(X, y, random_state=42)"
   ]
  },
  {
   "cell_type": "code",
   "execution_count": 41,
   "metadata": {
    "execution": {
     "iopub.execute_input": "2021-05-31T09:20:24.981006Z",
     "iopub.status.busy": "2021-05-31T09:20:24.980618Z",
     "iopub.status.idle": "2021-05-31T09:20:24.994123Z",
     "shell.execute_reply": "2021-05-31T09:20:24.992053Z",
     "shell.execute_reply.started": "2021-05-31T09:20:24.980959Z"
    },
    "tags": []
   },
   "outputs": [
    {
     "name": "stdout",
     "output_type": "stream",
     "text": [
      "0.4768444334507103\n",
      "0.4576751423229662\n",
      "0.4999907403609255\n"
     ]
    }
   ],
   "source": [
    "regressor_ridge = Ridge(alpha=0.01)\n",
    "regressor_ridge.fit(X_train, y_train)\n",
    "preds = regressor_ridge.predict(X_test)\n",
    "\n",
    "print(mean_absolute_error(y_test, preds))\n",
    "print(mean_squared_error(y_test, preds))\n",
    "print(r2_score(y_test, preds))"
   ]
  },
  {
   "cell_type": "code",
   "execution_count": 42,
   "metadata": {
    "execution": {
     "iopub.execute_input": "2021-05-31T09:20:32.796915Z",
     "iopub.status.busy": "2021-05-31T09:20:32.796546Z",
     "iopub.status.idle": "2021-05-31T09:20:32.811512Z",
     "shell.execute_reply": "2021-05-31T09:20:32.807898Z",
     "shell.execute_reply.started": "2021-05-31T09:20:32.796876Z"
    },
    "tags": []
   },
   "outputs": [
    {
     "name": "stdout",
     "output_type": "stream",
     "text": [
      "0.4768468304215806\n",
      "0.4999780701688322\n"
     ]
    }
   ],
   "source": [
    "regressor_lasso = Lasso(alpha=0.001)\n",
    "regressor_lasso.fit(X_train, y_train)\n",
    "preds = regressor_lasso.predict(X_test)\n",
    "\n",
    "\n",
    "print(mean_absolute_error(y_test, preds))\n",
    "print(r2_score(y_test, preds))"
   ]
  },
  {
   "cell_type": "code",
   "execution_count": 43,
   "metadata": {
    "execution": {
     "iopub.execute_input": "2021-05-31T09:20:33.535770Z",
     "iopub.status.busy": "2021-05-31T09:20:33.535245Z",
     "iopub.status.idle": "2021-05-31T09:20:33.546240Z",
     "shell.execute_reply": "2021-05-31T09:20:33.544750Z",
     "shell.execute_reply.started": "2021-05-31T09:20:33.535701Z"
    },
    "tags": []
   },
   "outputs": [
    {
     "name": "stdout",
     "output_type": "stream",
     "text": [
      "0.4768456628294899\n",
      "0.4999842273589915\n"
     ]
    }
   ],
   "source": [
    "regressor_net = ElasticNet(alpha=0.001)\n",
    "regressor_net.fit(X_train, y_train)\n",
    "preds = regressor_net.predict(X_test)\n",
    "\n",
    "\n",
    "print(mean_absolute_error(y_test, preds))\n",
    "print(r2_score(y_test, preds))"
   ]
  },
  {
   "cell_type": "code",
   "execution_count": 44,
   "metadata": {
    "execution": {
     "iopub.execute_input": "2021-05-31T09:20:35.995145Z",
     "iopub.status.busy": "2021-05-31T09:20:35.994771Z",
     "iopub.status.idle": "2021-05-31T09:20:36.006524Z",
     "shell.execute_reply": "2021-05-31T09:20:36.004949Z",
     "shell.execute_reply.started": "2021-05-31T09:20:35.995106Z"
    },
    "tags": []
   },
   "outputs": [
    {
     "name": "stdout",
     "output_type": "stream",
     "text": [
      "0.47684443233353657\n",
      "0.49999074652620346\n"
     ]
    }
   ],
   "source": [
    "regressor = LinearRegression()\n",
    "regressor.fit(X_train, y_train)\n",
    "preds = regressor.predict(X_test)\n",
    "\n",
    "\n",
    "print(mean_absolute_error(y_test, preds))\n",
    "print(r2_score(y_test, preds))"
   ]
  },
  {
   "cell_type": "markdown",
   "metadata": {},
   "source": [
    "#### Все регрессоры дали примерно одинаковый результат"
   ]
  },
  {
   "cell_type": "code",
   "execution_count": 46,
   "metadata": {
    "execution": {
     "iopub.execute_input": "2021-05-31T09:20:52.993548Z",
     "iopub.status.busy": "2021-05-31T09:20:52.993175Z",
     "iopub.status.idle": "2021-05-31T09:20:53.009818Z",
     "shell.execute_reply": "2021-05-31T09:20:53.003800Z",
     "shell.execute_reply.started": "2021-05-31T09:20:52.993508Z"
    },
    "tags": []
   },
   "outputs": [
    {
     "data": {
      "text/plain": [
       "array([6.2716142])"
      ]
     },
     "execution_count": 46,
     "metadata": {},
     "output_type": "execute_result"
    }
   ],
   "source": [
    "# фильм, которого нет в датасете\n",
    "regressor.predict(np.array([41, 44]).reshape(1, -1))"
   ]
  },
  {
   "cell_type": "markdown",
   "metadata": {},
   "source": [
    "![пример](img.png)"
   ]
  }
 ],
 "metadata": {
  "kernelspec": {
   "display_name": "Python 3",
   "language": "python",
   "name": "python3"
  },
  "language_info": {
   "codemirror_mode": {
    "name": "ipython",
    "version": 3
   },
   "file_extension": ".py",
   "mimetype": "text/x-python",
   "name": "python",
   "nbconvert_exporter": "python",
   "pygments_lexer": "ipython3",
   "version": "3.8.8"
  }
 },
 "nbformat": 4,
 "nbformat_minor": 4
}
