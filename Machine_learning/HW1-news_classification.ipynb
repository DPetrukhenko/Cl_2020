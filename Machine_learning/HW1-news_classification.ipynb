{
 "cells": [
  {
   "cell_type": "markdown",
   "metadata": {},
   "source": [
    "В этом дз необходимо обучить модели для классификации. Cегодня попробуем отличать настоящие новости от фейковых\n",
    "\n"
   ]
  },
  {
   "cell_type": "code",
   "execution_count": 3,
   "metadata": {
    "execution": {
     "iopub.execute_input": "2021-05-31T13:36:19.233228Z",
     "iopub.status.busy": "2021-05-31T13:36:19.230734Z",
     "iopub.status.idle": "2021-05-31T13:36:22.689067Z",
     "shell.execute_reply": "2021-05-31T13:36:22.687556Z",
     "shell.execute_reply.started": "2021-05-31T13:36:19.233147Z"
    },
    "tags": []
   },
   "outputs": [],
   "source": [
    "# ячейка импортов\n",
    "\n",
    "import numpy as np\n",
    "import pandas as pd\n",
    "\n",
    "# импорт моделей\n",
    "from sklearn import feature_extraction, model_selection, naive_bayes, metrics, svm\n",
    "from sklearn.tree import DecisionTreeClassifier\n",
    "from sklearn.ensemble import RandomForestClassifier, GradientBoostingClassifier, AdaBoostClassifier, ExtraTreesClassifier, BaggingClassifier\n",
    "from sklearn.linear_model import LogisticRegression\n",
    "from sklearn.neighbors import KNeighborsClassifier\n",
    "\n",
    "from sklearn.metrics import classification_report, confusion_matrix,accuracy_score # табличка с метриками\n",
    "\n",
    "from gensim.models.keyedvectors import KeyedVectors\n",
    "from gensim.models.word2vec import Word2Vec\n",
    "from sklearn.feature_extraction.text import TfidfVectorizer\n",
    "\n",
    "import warnings\n",
    "warnings.filterwarnings(\"ignore\")\n",
    "\n",
    "%matplotlib inline \n",
    "import matplotlib.pyplot as plt\n",
    "import seaborn as sns"
   ]
  },
  {
   "cell_type": "code",
   "execution_count": 2,
   "metadata": {
    "execution": {
     "iopub.execute_input": "2021-05-30T11:41:04.944695Z",
     "iopub.status.busy": "2021-05-30T11:41:04.943786Z",
     "iopub.status.idle": "2021-05-30T11:41:04.950121Z",
     "shell.execute_reply": "2021-05-30T11:41:04.949172Z",
     "shell.execute_reply.started": "2021-05-30T11:41:04.944622Z"
    },
    "tags": []
   },
   "outputs": [],
   "source": [
    "pd.set_option('display.max_columns', None)  \n",
    "pd.set_option('display.expand_frame_repr', False)\n",
    "pd.set_option('max_colwidth', 800)"
   ]
  },
  {
   "cell_type": "markdown",
   "metadata": {},
   "source": [
    "# Exploratory Data Analysis (EDA)\n",
    "\n"
   ]
  },
  {
   "cell_type": "code",
   "execution_count": 4,
   "metadata": {
    "execution": {
     "iopub.execute_input": "2021-05-31T13:36:33.811330Z",
     "iopub.status.busy": "2021-05-31T13:36:33.810490Z",
     "iopub.status.idle": "2021-05-31T13:36:35.985279Z",
     "shell.execute_reply": "2021-05-31T13:36:35.983932Z",
     "shell.execute_reply.started": "2021-05-31T13:36:33.811254Z"
    },
    "tags": []
   },
   "outputs": [
    {
     "data": {
      "text/html": [
       "<div>\n",
       "<style scoped>\n",
       "    .dataframe tbody tr th:only-of-type {\n",
       "        vertical-align: middle;\n",
       "    }\n",
       "\n",
       "    .dataframe tbody tr th {\n",
       "        vertical-align: top;\n",
       "    }\n",
       "\n",
       "    .dataframe thead th {\n",
       "        text-align: right;\n",
       "    }\n",
       "</style>\n",
       "<table border=\"1\" class=\"dataframe\">\n",
       "  <thead>\n",
       "    <tr style=\"text-align: right;\">\n",
       "      <th></th>\n",
       "      <th>Unnamed: 0</th>\n",
       "      <th>title</th>\n",
       "      <th>text</th>\n",
       "      <th>subject</th>\n",
       "      <th>date</th>\n",
       "      <th>label</th>\n",
       "    </tr>\n",
       "  </thead>\n",
       "  <tbody>\n",
       "    <tr>\n",
       "      <th>0</th>\n",
       "      <td>0</td>\n",
       "      <td>ADVISORY: Story on Kushner visiting Iraq withd...</td>\n",
       "      <td>(Reuters) - The story “Trump son-in-law Jared ...</td>\n",
       "      <td>politicsNews</td>\n",
       "      <td>April 3, 2017</td>\n",
       "      <td>1</td>\n",
       "    </tr>\n",
       "    <tr>\n",
       "      <th>1</th>\n",
       "      <td>1</td>\n",
       "      <td>Kasich campaign denies report of Romney endors...</td>\n",
       "      <td>WASHINGTON (Reuters) - Republican presidential...</td>\n",
       "      <td>politicsNews</td>\n",
       "      <td>March 14, 2016</td>\n",
       "      <td>1</td>\n",
       "    </tr>\n",
       "  </tbody>\n",
       "</table>\n",
       "</div>"
      ],
      "text/plain": [
       "   Unnamed: 0                                              title  \\\n",
       "0           0  ADVISORY: Story on Kushner visiting Iraq withd...   \n",
       "1           1  Kasich campaign denies report of Romney endors...   \n",
       "\n",
       "                                                text       subject  \\\n",
       "0  (Reuters) - The story “Trump son-in-law Jared ...  politicsNews   \n",
       "1  WASHINGTON (Reuters) - Republican presidential...  politicsNews   \n",
       "\n",
       "              date  label  \n",
       "0   April 3, 2017       1  \n",
       "1  March 14, 2016       1  "
      ]
     },
     "execution_count": 4,
     "metadata": {},
     "output_type": "execute_result"
    }
   ],
   "source": [
    "data = pd.read_csv(\"news_fake-n-true.csv\")\n",
    "data.head(2)"
   ]
  },
  {
   "cell_type": "markdown",
   "metadata": {},
   "source": [
    "**колонка label отвечает за тип новости: настоящие имеют лейбл 1,  фейковые новости -- с лейблом 0** "
   ]
  },
  {
   "cell_type": "code",
   "execution_count": 5,
   "metadata": {
    "execution": {
     "iopub.execute_input": "2021-05-31T13:36:39.385463Z",
     "iopub.status.busy": "2021-05-31T13:36:39.384669Z",
     "iopub.status.idle": "2021-05-31T13:36:39.434674Z",
     "shell.execute_reply": "2021-05-31T13:36:39.432935Z",
     "shell.execute_reply.started": "2021-05-31T13:36:39.385391Z"
    },
    "tags": []
   },
   "outputs": [
    {
     "data": {
      "text/html": [
       "<div>\n",
       "<style scoped>\n",
       "    .dataframe tbody tr th:only-of-type {\n",
       "        vertical-align: middle;\n",
       "    }\n",
       "\n",
       "    .dataframe tbody tr th {\n",
       "        vertical-align: top;\n",
       "    }\n",
       "\n",
       "    .dataframe thead th {\n",
       "        text-align: right;\n",
       "    }\n",
       "</style>\n",
       "<table border=\"1\" class=\"dataframe\">\n",
       "  <thead>\n",
       "    <tr style=\"text-align: right;\">\n",
       "      <th></th>\n",
       "      <th>text</th>\n",
       "      <th>label</th>\n",
       "    </tr>\n",
       "  </thead>\n",
       "  <tbody>\n",
       "    <tr>\n",
       "      <th>0</th>\n",
       "      <td>(Reuters) - The story “Trump son-in-law Jared ...</td>\n",
       "      <td>1</td>\n",
       "    </tr>\n",
       "    <tr>\n",
       "      <th>1</th>\n",
       "      <td>WASHINGTON (Reuters) - Republican presidential...</td>\n",
       "      <td>1</td>\n",
       "    </tr>\n",
       "  </tbody>\n",
       "</table>\n",
       "</div>"
      ],
      "text/plain": [
       "                                                text  label\n",
       "0  (Reuters) - The story “Trump son-in-law Jared ...      1\n",
       "1  WASHINGTON (Reuters) - Republican presidential...      1"
      ]
     },
     "execution_count": 5,
     "metadata": {},
     "output_type": "execute_result"
    }
   ],
   "source": [
    "# создадим новый датафрейм из старого\n",
    "\n",
    "data_clean = data.drop(['Unnamed: 0','title','subject','date'], axis=1)\n",
    "\n",
    "data_clean.head(2)"
   ]
  },
  {
   "cell_type": "markdown",
   "metadata": {},
   "source": [
    "распределение настоящих и фейковых новостей примерно равное"
   ]
  },
  {
   "cell_type": "code",
   "execution_count": 10,
   "metadata": {
    "execution": {
     "iopub.execute_input": "2021-05-21T08:52:30.132488Z",
     "iopub.status.busy": "2021-05-21T08:52:30.132109Z",
     "iopub.status.idle": "2021-05-21T08:52:30.309780Z",
     "shell.execute_reply": "2021-05-21T08:52:30.308366Z",
     "shell.execute_reply.started": "2021-05-21T08:52:30.132451Z"
    },
    "tags": []
   },
   "outputs": [
    {
     "data": {
      "image/png": "[encoded data removed]",
      "text/plain": [
       "<Figure size 432x288 with 1 Axes>"
      ]
     },
     "metadata": {},
     "output_type": "display_data"
    }
   ],
   "source": [
    "classes = pd.value_counts(data_clean[\"label\"])\n",
    "\n",
    "classes.plot(kind = 'pie',  autopct='%0.f%%') \n",
    "plt.title(\"Classes distribution\")\n",
    "plt.ylabel('')\n",
    "\n",
    "plt.show()"
   ]
  },
  {
   "cell_type": "markdown",
   "metadata": {},
   "source": [
    "**давайте попробуем предсказать:** окажется ли текст настоящей новостью или фейковой\n",
    "\n",
    "- Векторизуйте тексты\n",
    "- Разделите данные на обучающую и тестовую выборку\n",
    "\n",
    "Попробуйте обучить разные модели для классификации на данных\n",
    "1. Naive Bayes\n",
    "2. SVM \n",
    "3. Decision Trees\n",
    "4. Random Forest\n",
    "5. Boosting\n",
    "\n",
    "Для каждой модели посмотрите на метрики с помощью функции [classification report](https://scikit-learn.org/stable/modules/generated/sklearn.metrics.classification_report.html).\n",
    "\n",
    "Какая/какие модель/ли справляются с задачей наиболее эффективно?"
   ]
  },
  {
   "cell_type": "markdown",
   "metadata": {},
   "source": [
    "### Подготовка данных "
   ]
  },
  {
   "cell_type": "code",
   "execution_count": 6,
   "metadata": {
    "execution": {
     "iopub.execute_input": "2021-05-31T13:36:46.003869Z",
     "iopub.status.busy": "2021-05-31T13:36:46.002326Z",
     "iopub.status.idle": "2021-05-31T13:36:46.662939Z",
     "shell.execute_reply": "2021-05-31T13:36:46.662061Z",
     "shell.execute_reply.started": "2021-05-31T13:36:46.003789Z"
    },
    "tags": []
   },
   "outputs": [],
   "source": [
    "# импорты для препроцессинга\n",
    "import nltk\n",
    "from nltk.tokenize import word_tokenize\n",
    "from nltk.corpus import stopwords\n",
    "en_sws = stopwords.words('english')\n",
    "from string import punctuation\n",
    "\n",
    "from nltk.stem import WordNetLemmatizer\n",
    "lemmatizer = WordNetLemmatizer()\n",
    "import re\n",
    "\n",
    "from functools import lru_cache\n",
    "\n",
    "from tqdm.notebook import tqdm"
   ]
  },
  {
   "cell_type": "code",
   "execution_count": 7,
   "metadata": {
    "execution": {
     "iopub.execute_input": "2021-05-31T13:36:46.757670Z",
     "iopub.status.busy": "2021-05-31T13:36:46.757077Z",
     "iopub.status.idle": "2021-05-31T13:36:46.802336Z",
     "shell.execute_reply": "2021-05-31T13:36:46.794800Z",
     "shell.execute_reply.started": "2021-05-31T13:36:46.757581Z"
    },
    "tags": []
   },
   "outputs": [],
   "source": [
    "punctuation += '“”’'"
   ]
  },
  {
   "cell_type": "code",
   "execution_count": 8,
   "metadata": {
    "execution": {
     "iopub.execute_input": "2021-05-31T13:36:46.861513Z",
     "iopub.status.busy": "2021-05-31T13:36:46.860540Z",
     "iopub.status.idle": "2021-05-31T13:36:46.875128Z",
     "shell.execute_reply": "2021-05-31T13:36:46.869551Z",
     "shell.execute_reply.started": "2021-05-31T13:36:46.861470Z"
    }
   },
   "outputs": [],
   "source": [
    "def get_wordnet_pos(word):\n",
    "    tag = nltk.pos_tag([word])[0][1][0].upper()\n",
    "    tag_dict = {\"J\": wordnet.ADJ,\n",
    "                \"N\": wordnet.NOUN,\n",
    "                \"V\": wordnet.VERB,\n",
    "                \"R\": wordnet.ADV}\n",
    "    return tag_dict.get(tag, wordnet.NOUN)"
   ]
  },
  {
   "cell_type": "code",
   "execution_count": 9,
   "metadata": {
    "execution": {
     "iopub.execute_input": "2021-05-31T13:36:48.398370Z",
     "iopub.status.busy": "2021-05-31T13:36:48.397635Z",
     "iopub.status.idle": "2021-05-31T13:36:48.418966Z",
     "shell.execute_reply": "2021-05-31T13:36:48.414519Z",
     "shell.execute_reply.started": "2021-05-31T13:36:48.398300Z"
    },
    "tags": []
   },
   "outputs": [],
   "source": [
    "# функция, возвращающая список токенов с сохранением пунктуации внутри слов\n",
    "def get_tokens(text):\n",
    "    tokens = [word.strip(punctuation) for word in word_tokenize(text)]\n",
    "    clean_tokens = [word.lower() for word in tokens if word]\n",
    "    return clean_tokens "
   ]
  },
  {
   "cell_type": "code",
   "execution_count": 10,
   "metadata": {
    "execution": {
     "iopub.execute_input": "2021-05-31T13:36:48.812335Z",
     "iopub.status.busy": "2021-05-31T13:36:48.809214Z",
     "iopub.status.idle": "2021-05-31T13:36:48.822202Z",
     "shell.execute_reply": "2021-05-31T13:36:48.819803Z",
     "shell.execute_reply.started": "2021-05-31T13:36:48.812255Z"
    },
    "tags": []
   },
   "outputs": [],
   "source": [
    "@lru_cache(maxsize=128)\n",
    "def lemmatize_word(word):\n",
    "    return lemmatizer.lemmatize(word)\n",
    "\n",
    "def lemmatize_text(tokens):\n",
    "    return [lemmatize_word(w) for w in tokens]"
   ]
  },
  {
   "cell_type": "code",
   "execution_count": 11,
   "metadata": {
    "execution": {
     "iopub.execute_input": "2021-05-31T13:36:49.168726Z",
     "iopub.status.busy": "2021-05-31T13:36:49.167855Z",
     "iopub.status.idle": "2021-05-31T13:36:49.189741Z",
     "shell.execute_reply": "2021-05-31T13:36:49.186451Z",
     "shell.execute_reply.started": "2021-05-31T13:36:49.168659Z"
    },
    "tags": []
   },
   "outputs": [],
   "source": [
    "def remove_stopwords(lemmas, stopwords = en_sws):\n",
    "    return [w for w in lemmas if not w in stopwords]"
   ]
  },
  {
   "cell_type": "code",
   "execution_count": 12,
   "metadata": {
    "execution": {
     "iopub.execute_input": "2021-05-31T13:36:49.500015Z",
     "iopub.status.busy": "2021-05-31T13:36:49.499405Z",
     "iopub.status.idle": "2021-05-31T13:36:49.531857Z",
     "shell.execute_reply": "2021-05-31T13:36:49.518959Z",
     "shell.execute_reply.started": "2021-05-31T13:36:49.499943Z"
    },
    "tags": []
   },
   "outputs": [],
   "source": [
    "def preprocessing(text):\n",
    "    tokens = get_tokens(text)\n",
    "    lemmas = lemmatize_text(tokens)\n",
    "    \n",
    "    return ' '.join(remove_stopwords(lemmas))"
   ]
  },
  {
   "cell_type": "code",
   "execution_count": 13,
   "metadata": {
    "execution": {
     "iopub.execute_input": "2021-05-31T13:36:54.938502Z",
     "iopub.status.busy": "2021-05-31T13:36:54.937724Z",
     "iopub.status.idle": "2021-05-31T13:36:57.616976Z",
     "shell.execute_reply": "2021-05-31T13:36:57.615226Z",
     "shell.execute_reply.started": "2021-05-31T13:36:54.938432Z"
    },
    "tags": []
   },
   "outputs": [
    {
     "name": "stdout",
     "output_type": "stream",
     "text": [
      "Обработанный текст: reuters story trump son-in-law jared kushner visit iraq u.s official say accompanying alert subsequent update wrong withdrawn substitute story available \n",
      "\n",
      "Сырой текст: (Reuters) - The story “Trump son-in-law Jared Kushner visits Iraq, U.S. official says”, the accompanying alert and subsequent update are wrong and were withdrawn. A substitute story is available here\n"
     ]
    }
   ],
   "source": [
    "print('Обработанный текст:', preprocessing(data_clean['text'][0]), '\\n')\n",
    "print('Сырой текст:', data_clean['text'][0])"
   ]
  },
  {
   "cell_type": "code",
   "execution_count": 14,
   "metadata": {
    "execution": {
     "iopub.execute_input": "2021-05-31T13:37:07.635220Z",
     "iopub.status.busy": "2021-05-31T13:37:07.634505Z",
     "iopub.status.idle": "2021-05-31T13:43:27.497236Z",
     "shell.execute_reply": "2021-05-31T13:43:27.491118Z",
     "shell.execute_reply.started": "2021-05-31T13:37:07.635151Z"
    },
    "tags": []
   },
   "outputs": [
    {
     "data": {
      "application/vnd.jupyter.widget-view+json": {
       "model_id": "55d4f7e8faee484cbb819b9c1ce4a4d2",
       "version_major": 2,
       "version_minor": 0
      },
      "text/plain": [
       "HBox(children=(FloatProgress(value=0.0, max=44898.0), HTML(value='')))"
      ]
     },
     "metadata": {},
     "output_type": "display_data"
    },
    {
     "name": "stdout",
     "output_type": "stream",
     "text": [
      "\n"
     ]
    }
   ],
   "source": [
    "lemmas = list(tqdm(map(preprocessing, data_clean['text']), total=len(data_clean['text'])))"
   ]
  },
  {
   "cell_type": "code",
   "execution_count": 15,
   "metadata": {
    "execution": {
     "iopub.execute_input": "2021-05-31T13:43:50.807030Z",
     "iopub.status.busy": "2021-05-31T13:43:50.806210Z",
     "iopub.status.idle": "2021-05-31T13:43:51.070363Z",
     "shell.execute_reply": "2021-05-31T13:43:51.064850Z",
     "shell.execute_reply.started": "2021-05-31T13:43:50.806954Z"
    },
    "tags": []
   },
   "outputs": [],
   "source": [
    "data_preprocessed = data_clean\n",
    "data_preprocessed['text'] = lemmas"
   ]
  },
  {
   "cell_type": "code",
   "execution_count": 14,
   "metadata": {
    "execution": {
     "iopub.execute_input": "2021-05-30T11:49:05.166162Z",
     "iopub.status.busy": "2021-05-30T11:49:05.165513Z",
     "iopub.status.idle": "2021-05-30T11:49:05.192354Z",
     "shell.execute_reply": "2021-05-30T11:49:05.183005Z",
     "shell.execute_reply.started": "2021-05-30T11:49:05.166105Z"
    },
    "tags": []
   },
   "outputs": [
    {
     "data": {
      "text/html": [
       "<div>\n",
       "<style scoped>\n",
       "    .dataframe tbody tr th:only-of-type {\n",
       "        vertical-align: middle;\n",
       "    }\n",
       "\n",
       "    .dataframe tbody tr th {\n",
       "        vertical-align: top;\n",
       "    }\n",
       "\n",
       "    .dataframe thead th {\n",
       "        text-align: right;\n",
       "    }\n",
       "</style>\n",
       "<table border=\"1\" class=\"dataframe\">\n",
       "  <thead>\n",
       "    <tr style=\"text-align: right;\">\n",
       "      <th></th>\n",
       "      <th>text</th>\n",
       "      <th>label</th>\n",
       "    </tr>\n",
       "  </thead>\n",
       "  <tbody>\n",
       "    <tr>\n",
       "      <th>0</th>\n",
       "      <td>reuters story trump son-in-law jared kushner visit iraq u.s official say accompanying alert subsequent update wrong withdrawn substitute story available</td>\n",
       "      <td>1</td>\n",
       "    </tr>\n",
       "    <tr>\n",
       "      <th>1</th>\n",
       "      <td>washington reuters republican presidential candidate john kasich campaign monday denied report mitt romney party presidential candidate 2012 would endorse ohio governor monday wall street journal reporter said kasich answered affirmative question romney endorsement kasich spokesman chris schrimpf said true kasich wa responding acknowledging different question romney endorsement would provided kasich boost eve ohio primary front-runner donald trump running close race first place</td>\n",
       "      <td>1</td>\n",
       "    </tr>\n",
       "  </tbody>\n",
       "</table>\n",
       "</div>"
      ],
      "text/plain": [
       "                                                                                                                                                                                                                                                                                                                                                                                                                                                                                                 text  label\n",
       "0                                                                                                                                                                                                                                                                                                                                            reuters story trump son-in-law jared kushner visit iraq u.s official say accompanying alert subsequent update wrong withdrawn substitute story available      1\n",
       "1  washington reuters republican presidential candidate john kasich campaign monday denied report mitt romney party presidential candidate 2012 would endorse ohio governor monday wall street journal reporter said kasich answered affirmative question romney endorsement kasich spokesman chris schrimpf said true kasich wa responding acknowledging different question romney endorsement would provided kasich boost eve ohio primary front-runner donald trump running close race first place      1"
      ]
     },
     "execution_count": 14,
     "metadata": {},
     "output_type": "execute_result"
    }
   ],
   "source": [
    "data_preprocessed.head(2)"
   ]
  },
  {
   "cell_type": "markdown",
   "metadata": {},
   "source": [
    "### Настройка моделей "
   ]
  },
  {
   "cell_type": "code",
   "execution_count": 92,
   "metadata": {
    "execution": {
     "iopub.execute_input": "2021-05-21T11:11:09.277701Z",
     "iopub.status.busy": "2021-05-21T11:11:09.277280Z",
     "iopub.status.idle": "2021-05-21T11:11:09.317328Z",
     "shell.execute_reply": "2021-05-21T11:11:09.312287Z",
     "shell.execute_reply.started": "2021-05-21T11:11:09.277649Z"
    },
    "tags": []
   },
   "outputs": [],
   "source": [
    "# модели, которые попробуем обучить\n",
    "svc = svm.SVC(kernel='sigmoid', gamma=1.0)\n",
    "knc = KNeighborsClassifier(n_neighbors=49)\n",
    "mnb = naive_bayes.MultinomialNB(alpha=0.33001)\n",
    "dtc = DecisionTreeClassifier(min_samples_leaf=5, random_state=111)\n",
    "lrc = LogisticRegression(solver='liblinear', penalty='l1')\n",
    "rfc = RandomForestClassifier(min_samples_split=7, random_state=111)\n",
    "abc = AdaBoostClassifier(n_estimators=62, random_state=111)\n",
    "gbc = GradientBoostingClassifier(n_estimators=100, random_state=111)\n",
    "bc = BaggingClassifier(n_estimators=50, random_state=111)\n",
    "etc = ExtraTreesClassifier(random_state=111)"
   ]
  },
  {
   "cell_type": "markdown",
   "metadata": {},
   "source": [
    "(для справки - разница между Random Forest/Bagging)\n",
    "![для справки - разница между Random Forest/Bagging](https://i.stack.imgur.com/sYR7y.png)"
   ]
  },
  {
   "cell_type": "code",
   "execution_count": 94,
   "metadata": {
    "execution": {
     "iopub.execute_input": "2021-05-21T11:12:04.636252Z",
     "iopub.status.busy": "2021-05-21T11:12:04.635784Z",
     "iopub.status.idle": "2021-05-21T11:12:04.643810Z",
     "shell.execute_reply": "2021-05-21T11:12:04.641676Z",
     "shell.execute_reply.started": "2021-05-21T11:12:04.636197Z"
    },
    "tags": []
   },
   "outputs": [],
   "source": [
    "clfs = {'SVC' : svc,'KNeibourghs' : knc, 'NaiveBayes': mnb, 'DecisionTree': dtc, 'LogisticRegression': lrc, \n",
    "        'RandomForest': rfc, 'AdaBoost': abc, 'BaggingClf': bc, 'ExtraTreeClassifier': etc, 'GradientBoost': gbc}"
   ]
  },
  {
   "cell_type": "code",
   "execution_count": 95,
   "metadata": {
    "execution": {
     "iopub.execute_input": "2021-05-21T11:12:04.913178Z",
     "iopub.status.busy": "2021-05-21T11:12:04.912813Z",
     "iopub.status.idle": "2021-05-21T11:12:04.921589Z",
     "shell.execute_reply": "2021-05-21T11:12:04.919700Z",
     "shell.execute_reply.started": "2021-05-21T11:12:04.913141Z"
    },
    "tags": []
   },
   "outputs": [],
   "source": [
    "def train_classifier(clf, feature_train, labels_train):    \n",
    "    clf.fit(feature_train, labels_train)"
   ]
  },
  {
   "cell_type": "code",
   "execution_count": 96,
   "metadata": {
    "execution": {
     "iopub.execute_input": "2021-05-21T11:12:05.240797Z",
     "iopub.status.busy": "2021-05-21T11:12:05.238443Z",
     "iopub.status.idle": "2021-05-21T11:12:05.251321Z",
     "shell.execute_reply": "2021-05-21T11:12:05.248879Z",
     "shell.execute_reply.started": "2021-05-21T11:12:05.240702Z"
    },
    "tags": []
   },
   "outputs": [],
   "source": [
    "def predict_labels(clf, features):\n",
    "    return (clf.predict(features))"
   ]
  },
  {
   "cell_type": "markdown",
   "metadata": {},
   "source": [
    "### Обучение"
   ]
  },
  {
   "cell_type": "code",
   "execution_count": 16,
   "metadata": {
    "execution": {
     "iopub.execute_input": "2021-05-31T13:44:02.712859Z",
     "iopub.status.busy": "2021-05-31T13:44:02.712099Z",
     "iopub.status.idle": "2021-05-31T13:44:02.774116Z",
     "shell.execute_reply": "2021-05-31T13:44:02.769008Z",
     "shell.execute_reply.started": "2021-05-31T13:44:02.712786Z"
    },
    "tags": []
   },
   "outputs": [],
   "source": [
    "X_train, X_test, y_train, y_test = model_selection.train_test_split(data_preprocessed['text'], \n",
    "                                                    data_preprocessed['label'], \n",
    "                                                    test_size=0.3, \n",
    "                                                    random_state=59)"
   ]
  },
  {
   "cell_type": "code",
   "execution_count": 201,
   "metadata": {
    "execution": {
     "iopub.execute_input": "2021-05-21T15:23:06.015025Z",
     "iopub.status.busy": "2021-05-21T15:23:06.011698Z",
     "iopub.status.idle": "2021-05-21T15:23:20.447840Z",
     "shell.execute_reply": "2021-05-21T15:23:20.446181Z",
     "shell.execute_reply.started": "2021-05-21T15:23:06.014905Z"
    },
    "tags": []
   },
   "outputs": [],
   "source": [
    "vectorizer = TfidfVectorizer(max_df=0.8, min_df=3)\n",
    "\n",
    "X_train = vectorizer.fit_transform(X_train)\n",
    "X_test = vectorizer.transform(X_test)"
   ]
  },
  {
   "cell_type": "code",
   "execution_count": 99,
   "metadata": {
    "execution": {
     "iopub.execute_input": "2021-05-21T11:12:35.489757Z",
     "iopub.status.busy": "2021-05-21T11:12:35.489355Z",
     "iopub.status.idle": "2021-05-21T11:42:36.263298Z",
     "shell.execute_reply": "2021-05-21T11:42:36.231848Z",
     "shell.execute_reply.started": "2021-05-21T11:12:35.489716Z"
    },
    "tags": []
   },
   "outputs": [
    {
     "data": {
      "application/vnd.jupyter.widget-view+json": {
       "model_id": "2735703bef444256b32d69ade820acbb",
       "version_major": 2,
       "version_minor": 0
      },
      "text/plain": [
       "HBox(children=(FloatProgress(value=0.0, max=10.0), HTML(value='')))"
      ]
     },
     "metadata": {},
     "output_type": "display_data"
    },
    {
     "name": "stdout",
     "output_type": "stream",
     "text": [
      "SVC:\n",
      "              precision    recall  f1-score   support\n",
      "\n",
      "           0       1.00      0.99      0.99      7034\n",
      "           1       0.99      0.99      0.99      6436\n",
      "\n",
      "    accuracy                           0.99     13470\n",
      "   macro avg       0.99      0.99      0.99     13470\n",
      "weighted avg       0.99      0.99      0.99     13470\n",
      "\n",
      "\n",
      "KNeibourghs:\n",
      "              precision    recall  f1-score   support\n",
      "\n",
      "           0       0.53      1.00      0.70      7034\n",
      "           1       0.98      0.05      0.09      6436\n",
      "\n",
      "    accuracy                           0.54     13470\n",
      "   macro avg       0.76      0.52      0.39     13470\n",
      "weighted avg       0.75      0.54      0.41     13470\n",
      "\n",
      "\n",
      "NaiveBayes:\n",
      "              precision    recall  f1-score   support\n",
      "\n",
      "           0       0.95      0.95      0.95      7034\n",
      "           1       0.95      0.94      0.94      6436\n",
      "\n",
      "    accuracy                           0.95     13470\n",
      "   macro avg       0.95      0.95      0.95     13470\n",
      "weighted avg       0.95      0.95      0.95     13470\n",
      "\n",
      "\n",
      "DecisionTree:\n",
      "              precision    recall  f1-score   support\n",
      "\n",
      "           0       1.00      1.00      1.00      7034\n",
      "           1       1.00      1.00      1.00      6436\n",
      "\n",
      "    accuracy                           1.00     13470\n",
      "   macro avg       1.00      1.00      1.00     13470\n",
      "weighted avg       1.00      1.00      1.00     13470\n",
      "\n",
      "\n",
      "LogisticRegression:\n",
      "              precision    recall  f1-score   support\n",
      "\n",
      "           0       1.00      0.99      1.00      7034\n",
      "           1       0.99      1.00      1.00      6436\n",
      "\n",
      "    accuracy                           1.00     13470\n",
      "   macro avg       1.00      1.00      1.00     13470\n",
      "weighted avg       1.00      1.00      1.00     13470\n",
      "\n",
      "\n",
      "RandomForest:\n",
      "              precision    recall  f1-score   support\n",
      "\n",
      "           0       1.00      1.00      1.00      7034\n",
      "           1       1.00      1.00      1.00      6436\n",
      "\n",
      "    accuracy                           1.00     13470\n",
      "   macro avg       1.00      1.00      1.00     13470\n",
      "weighted avg       1.00      1.00      1.00     13470\n",
      "\n",
      "\n",
      "AdaBoost:\n",
      "              precision    recall  f1-score   support\n",
      "\n",
      "           0       1.00      1.00      1.00      7034\n",
      "           1       1.00      1.00      1.00      6436\n",
      "\n",
      "    accuracy                           1.00     13470\n",
      "   macro avg       1.00      1.00      1.00     13470\n",
      "weighted avg       1.00      1.00      1.00     13470\n",
      "\n",
      "\n",
      "BaggingClf:\n",
      "              precision    recall  f1-score   support\n",
      "\n",
      "           0       1.00      1.00      1.00      7034\n",
      "           1       1.00      1.00      1.00      6436\n",
      "\n",
      "    accuracy                           1.00     13470\n",
      "   macro avg       1.00      1.00      1.00     13470\n",
      "weighted avg       1.00      1.00      1.00     13470\n",
      "\n",
      "\n",
      "ExtraTreeClassifier:\n",
      "              precision    recall  f1-score   support\n",
      "\n",
      "           0       0.99      0.99      0.99      7034\n",
      "           1       0.99      0.99      0.99      6436\n",
      "\n",
      "    accuracy                           0.99     13470\n",
      "   macro avg       0.99      0.99      0.99     13470\n",
      "weighted avg       0.99      0.99      0.99     13470\n",
      "\n",
      "\n",
      "GradientBoost:\n",
      "              precision    recall  f1-score   support\n",
      "\n",
      "           0       1.00      0.99      1.00      7034\n",
      "           1       0.99      1.00      1.00      6436\n",
      "\n",
      "    accuracy                           1.00     13470\n",
      "   macro avg       1.00      1.00      1.00     13470\n",
      "weighted avg       1.00      1.00      1.00     13470\n",
      "\n",
      "\n",
      "\n"
     ]
    }
   ],
   "source": [
    "pred_scores = []\n",
    "for k,v in tqdm(clfs.items(), total=10):\n",
    "    train_classifier(v, X_train, y_train)\n",
    "    pred = predict_labels(v,X_test)\n",
    "    pred_scores.append((k, [accuracy_score(y_test,pred), metrics.precision_score(y_test, pred)]))\n",
    "    print(f'{k}:\\n{classification_report(y_test, pred)}\\n')"
   ]
  },
  {
   "cell_type": "code",
   "execution_count": 100,
   "metadata": {
    "execution": {
     "iopub.execute_input": "2021-05-21T11:42:56.288259Z",
     "iopub.status.busy": "2021-05-21T11:42:56.287742Z",
     "iopub.status.idle": "2021-05-21T11:42:56.425655Z",
     "shell.execute_reply": "2021-05-21T11:42:56.420807Z",
     "shell.execute_reply.started": "2021-05-21T11:42:56.288183Z"
    },
    "tags": []
   },
   "outputs": [
    {
     "data": {
      "text/html": [
       "<div>\n",
       "<style scoped>\n",
       "    .dataframe tbody tr th:only-of-type {\n",
       "        vertical-align: middle;\n",
       "    }\n",
       "\n",
       "    .dataframe tbody tr th {\n",
       "        vertical-align: top;\n",
       "    }\n",
       "\n",
       "    .dataframe thead th {\n",
       "        text-align: right;\n",
       "    }\n",
       "</style>\n",
       "<table border=\"1\" class=\"dataframe\">\n",
       "  <thead>\n",
       "    <tr style=\"text-align: right;\">\n",
       "      <th></th>\n",
       "      <th>Accuracy Score</th>\n",
       "      <th>Precision Score</th>\n",
       "    </tr>\n",
       "  </thead>\n",
       "  <tbody>\n",
       "    <tr>\n",
       "      <th>KNeibourghs</th>\n",
       "      <td>0.544024</td>\n",
       "      <td>0.983553</td>\n",
       "    </tr>\n",
       "    <tr>\n",
       "      <th>NaiveBayes</th>\n",
       "      <td>0.945805</td>\n",
       "      <td>0.945225</td>\n",
       "    </tr>\n",
       "    <tr>\n",
       "      <th>ExtraTreeClassifier</th>\n",
       "      <td>0.991537</td>\n",
       "      <td>0.988261</td>\n",
       "    </tr>\n",
       "    <tr>\n",
       "      <th>SVC</th>\n",
       "      <td>0.994506</td>\n",
       "      <td>0.993637</td>\n",
       "    </tr>\n",
       "    <tr>\n",
       "      <th>LogisticRegression</th>\n",
       "      <td>0.995323</td>\n",
       "      <td>0.993648</td>\n",
       "    </tr>\n",
       "    <tr>\n",
       "      <th>RandomForest</th>\n",
       "      <td>0.995620</td>\n",
       "      <td>0.995647</td>\n",
       "    </tr>\n",
       "    <tr>\n",
       "      <th>DecisionTree</th>\n",
       "      <td>0.996140</td>\n",
       "      <td>0.996577</td>\n",
       "    </tr>\n",
       "    <tr>\n",
       "      <th>GradientBoost</th>\n",
       "      <td>0.996437</td>\n",
       "      <td>0.994427</td>\n",
       "    </tr>\n",
       "    <tr>\n",
       "      <th>AdaBoost</th>\n",
       "      <td>0.997105</td>\n",
       "      <td>0.997202</td>\n",
       "    </tr>\n",
       "    <tr>\n",
       "      <th>BaggingClf</th>\n",
       "      <td>0.997773</td>\n",
       "      <td>0.997824</td>\n",
       "    </tr>\n",
       "  </tbody>\n",
       "</table>\n",
       "</div>"
      ],
      "text/plain": [
       "                     Accuracy Score  Precision Score\n",
       "KNeibourghs                0.544024         0.983553\n",
       "NaiveBayes                 0.945805         0.945225\n",
       "ExtraTreeClassifier        0.991537         0.988261\n",
       "SVC                        0.994506         0.993637\n",
       "LogisticRegression         0.995323         0.993648\n",
       "RandomForest               0.995620         0.995647\n",
       "DecisionTree               0.996140         0.996577\n",
       "GradientBoost              0.996437         0.994427\n",
       "AdaBoost                   0.997105         0.997202\n",
       "BaggingClf                 0.997773         0.997824"
      ]
     },
     "execution_count": 100,
     "metadata": {},
     "output_type": "execute_result"
    }
   ],
   "source": [
    "df = pd.DataFrame.from_dict(dict(pred_scores), orient='index', columns=['Accuracy Score', 'Precision Score'])\n",
    "df.sort_values(['Accuracy Score'])"
   ]
  },
  {
   "cell_type": "markdown",
   "metadata": {},
   "source": [
    "##### Лучше всего справился Bagging Classifier (и в целом ансамбли).\n",
    "\n",
    "Можно посмотреть на самые значимые признаки:"
   ]
  },
  {
   "cell_type": "code",
   "execution_count": 103,
   "metadata": {
    "execution": {
     "iopub.execute_input": "2021-05-21T11:44:32.353283Z",
     "iopub.status.busy": "2021-05-21T11:44:32.352959Z",
     "iopub.status.idle": "2021-05-21T11:44:32.582348Z",
     "shell.execute_reply": "2021-05-21T11:44:32.581410Z",
     "shell.execute_reply.started": "2021-05-21T11:44:32.353247Z"
    },
    "tags": []
   },
   "outputs": [
    {
     "data": {
      "text/html": [
       "<div>\n",
       "<style scoped>\n",
       "    .dataframe tbody tr th:only-of-type {\n",
       "        vertical-align: middle;\n",
       "    }\n",
       "\n",
       "    .dataframe tbody tr th {\n",
       "        vertical-align: top;\n",
       "    }\n",
       "\n",
       "    .dataframe thead th {\n",
       "        text-align: right;\n",
       "    }\n",
       "</style>\n",
       "<table border=\"1\" class=\"dataframe\">\n",
       "  <thead>\n",
       "    <tr style=\"text-align: right;\">\n",
       "      <th></th>\n",
       "      <th>0</th>\n",
       "      <th>feature</th>\n",
       "    </tr>\n",
       "  </thead>\n",
       "  <tbody>\n",
       "    <tr>\n",
       "      <th>31725</th>\n",
       "      <td>0.089446</td>\n",
       "      <td>reuters</td>\n",
       "    </tr>\n",
       "    <tr>\n",
       "      <th>39755</th>\n",
       "      <td>0.029564</td>\n",
       "      <td>via</td>\n",
       "    </tr>\n",
       "    <tr>\n",
       "      <th>37225</th>\n",
       "      <td>0.023727</td>\n",
       "      <td>the</td>\n",
       "    </tr>\n",
       "    <tr>\n",
       "      <th>32641</th>\n",
       "      <td>0.023501</td>\n",
       "      <td>said</td>\n",
       "    </tr>\n",
       "    <tr>\n",
       "      <th>14602</th>\n",
       "      <td>0.014415</td>\n",
       "      <td>featured</td>\n",
       "    </tr>\n",
       "    <tr>\n",
       "      <th>40285</th>\n",
       "      <td>0.009338</td>\n",
       "      <td>washington</td>\n",
       "    </tr>\n",
       "    <tr>\n",
       "      <th>24463</th>\n",
       "      <td>0.007921</td>\n",
       "      <td>minister</td>\n",
       "    </tr>\n",
       "    <tr>\n",
       "      <th>37466</th>\n",
       "      <td>0.007752</td>\n",
       "      <td>thursday</td>\n",
       "    </tr>\n",
       "    <tr>\n",
       "      <th>40304</th>\n",
       "      <td>0.007455</td>\n",
       "      <td>watch</td>\n",
       "    </tr>\n",
       "    <tr>\n",
       "      <th>18909</th>\n",
       "      <td>0.007184</td>\n",
       "      <td>image</td>\n",
       "    </tr>\n",
       "  </tbody>\n",
       "</table>\n",
       "</div>"
      ],
      "text/plain": [
       "              0     feature\n",
       "31725  0.089446     reuters\n",
       "39755  0.029564         via\n",
       "37225  0.023727         the\n",
       "32641  0.023501        said\n",
       "14602  0.014415    featured\n",
       "40285  0.009338  washington\n",
       "24463  0.007921    minister\n",
       "37466  0.007752    thursday\n",
       "40304  0.007455       watch\n",
       "18909  0.007184       image"
      ]
     },
     "execution_count": 103,
     "metadata": {},
     "output_type": "execute_result"
    }
   ],
   "source": [
    "# Random Forest Classifier\n",
    "forest_df = pd.DataFrame(rfc.feature_importances_)\n",
    "\n",
    "forest_df[\"feature\"] = vectorizer.get_feature_names()\n",
    "forest_df.nlargest(10, 0)"
   ]
  },
  {
   "cell_type": "code",
   "execution_count": 134,
   "metadata": {
    "execution": {
     "iopub.execute_input": "2021-05-21T12:02:44.895182Z",
     "iopub.status.busy": "2021-05-21T12:02:44.894390Z",
     "iopub.status.idle": "2021-05-21T12:02:45.080214Z",
     "shell.execute_reply": "2021-05-21T12:02:45.079006Z",
     "shell.execute_reply.started": "2021-05-21T12:02:44.895111Z"
    },
    "tags": []
   },
   "outputs": [
    {
     "data": {
      "text/html": [
       "<div>\n",
       "<style scoped>\n",
       "    .dataframe tbody tr th:only-of-type {\n",
       "        vertical-align: middle;\n",
       "    }\n",
       "\n",
       "    .dataframe tbody tr th {\n",
       "        vertical-align: top;\n",
       "    }\n",
       "\n",
       "    .dataframe thead th {\n",
       "        text-align: right;\n",
       "    }\n",
       "</style>\n",
       "<table border=\"1\" class=\"dataframe\">\n",
       "  <thead>\n",
       "    <tr style=\"text-align: right;\">\n",
       "      <th></th>\n",
       "      <th>0</th>\n",
       "      <th>feature</th>\n",
       "    </tr>\n",
       "  </thead>\n",
       "  <tbody>\n",
       "    <tr>\n",
       "      <th>31725</th>\n",
       "      <td>0.970153</td>\n",
       "      <td>reuters</td>\n",
       "    </tr>\n",
       "    <tr>\n",
       "      <th>37225</th>\n",
       "      <td>0.009945</td>\n",
       "      <td>the</td>\n",
       "    </tr>\n",
       "    <tr>\n",
       "      <th>16238</th>\n",
       "      <td>0.003326</td>\n",
       "      <td>getty</td>\n",
       "    </tr>\n",
       "    <tr>\n",
       "      <th>39755</th>\n",
       "      <td>0.001135</td>\n",
       "      <td>via</td>\n",
       "    </tr>\n",
       "    <tr>\n",
       "      <th>33793</th>\n",
       "      <td>0.000814</td>\n",
       "      <td>she</td>\n",
       "    </tr>\n",
       "    <tr>\n",
       "      <th>28299</th>\n",
       "      <td>0.000761</td>\n",
       "      <td>pic</td>\n",
       "    </tr>\n",
       "    <tr>\n",
       "      <th>25812</th>\n",
       "      <td>0.000641</td>\n",
       "      <td>news</td>\n",
       "    </tr>\n",
       "    <tr>\n",
       "      <th>979</th>\n",
       "      <td>0.000603</td>\n",
       "      <td>21wire</td>\n",
       "    </tr>\n",
       "    <tr>\n",
       "      <th>18824</th>\n",
       "      <td>0.000438</td>\n",
       "      <td>ifr</td>\n",
       "    </tr>\n",
       "    <tr>\n",
       "      <th>40608</th>\n",
       "      <td>0.000417</td>\n",
       "      <td>while</td>\n",
       "    </tr>\n",
       "  </tbody>\n",
       "</table>\n",
       "</div>"
      ],
      "text/plain": [
       "              0  feature\n",
       "31725  0.970153  reuters\n",
       "37225  0.009945      the\n",
       "16238  0.003326    getty\n",
       "39755  0.001135      via\n",
       "33793  0.000814      she\n",
       "28299  0.000761      pic\n",
       "25812  0.000641     news\n",
       "979    0.000603   21wire\n",
       "18824  0.000438      ifr\n",
       "40608  0.000417    while"
      ]
     },
     "execution_count": 134,
     "metadata": {},
     "output_type": "execute_result"
    }
   ],
   "source": [
    "# Bagging Classifier\n",
    "feature_importances = np.mean([\n",
    "    tree.feature_importances_ for tree in bc.estimators_\n",
    "], axis=0)\n",
    "bagg_df = pd.DataFrame(feature_importances)\n",
    "\n",
    "bagg_df[\"feature\"] = vectorizer.get_feature_names()\n",
    "bagg_df.nlargest(10, 0)"
   ]
  },
  {
   "cell_type": "markdown",
   "metadata": {},
   "source": [
    "#### Нейронная сеть "
   ]
  },
  {
   "cell_type": "code",
   "execution_count": 17,
   "metadata": {
    "execution": {
     "iopub.execute_input": "2021-05-31T13:44:12.628419Z",
     "iopub.status.busy": "2021-05-31T13:44:12.627456Z",
     "iopub.status.idle": "2021-05-31T13:44:22.815438Z",
     "shell.execute_reply": "2021-05-31T13:44:22.814521Z",
     "shell.execute_reply.started": "2021-05-31T13:44:12.628250Z"
    },
    "tags": []
   },
   "outputs": [],
   "source": [
    "from tensorflow.keras.preprocessing.text import Tokenizer\n",
    "from tensorflow.keras.preprocessing.sequence import pad_sequences"
   ]
  },
  {
   "cell_type": "code",
   "execution_count": 18,
   "metadata": {
    "execution": {
     "iopub.execute_input": "2021-05-31T13:44:25.699700Z",
     "iopub.status.busy": "2021-05-31T13:44:25.698603Z",
     "iopub.status.idle": "2021-05-31T13:44:25.707375Z",
     "shell.execute_reply": "2021-05-31T13:44:25.705924Z",
     "shell.execute_reply.started": "2021-05-31T13:44:25.699617Z"
    },
    "tags": []
   },
   "outputs": [],
   "source": [
    "from tensorflow.keras.layers import Dense, Input, LSTM\n",
    "from tensorflow.keras.layers import Embedding, Dropout, Activation\n",
    "from tensorflow.keras.models import Model\n",
    "from tensorflow.keras.initializers import Constant\n",
    "from tensorflow.keras.models import Sequential"
   ]
  },
  {
   "cell_type": "code",
   "execution_count": 19,
   "metadata": {
    "execution": {
     "iopub.execute_input": "2021-05-31T13:44:25.712587Z",
     "iopub.status.busy": "2021-05-31T13:44:25.711086Z",
     "iopub.status.idle": "2021-05-31T13:44:25.725818Z",
     "shell.execute_reply": "2021-05-31T13:44:25.722645Z",
     "shell.execute_reply.started": "2021-05-31T13:44:25.712515Z"
    },
    "tags": []
   },
   "outputs": [],
   "source": [
    "MAX_SEQUENCE_LENGTH = 500\n",
    "MAX_NUM_WORDS = 10000\n",
    "EMBEDDING_DIM = 300"
   ]
  },
  {
   "cell_type": "code",
   "execution_count": 20,
   "metadata": {
    "execution": {
     "iopub.execute_input": "2021-05-31T13:44:25.729404Z",
     "iopub.status.busy": "2021-05-31T13:44:25.729005Z",
     "iopub.status.idle": "2021-05-31T13:44:45.293795Z",
     "shell.execute_reply": "2021-05-31T13:44:45.292049Z",
     "shell.execute_reply.started": "2021-05-31T13:44:25.729344Z"
    },
    "tags": []
   },
   "outputs": [],
   "source": [
    "tokenizer = Tokenizer(num_words=MAX_NUM_WORDS)\n",
    "tokenizer.fit_on_texts(X_train)\n",
    "tokenized_train = tokenizer.texts_to_sequences(X_train)\n",
    "X_train = pad_sequences(tokenized_train, maxlen=MAX_SEQUENCE_LENGTH)"
   ]
  },
  {
   "cell_type": "code",
   "execution_count": 21,
   "metadata": {
    "execution": {
     "iopub.execute_input": "2021-05-31T13:44:45.297936Z",
     "iopub.status.busy": "2021-05-31T13:44:45.297331Z",
     "iopub.status.idle": "2021-05-31T13:44:45.318885Z",
     "shell.execute_reply": "2021-05-31T13:44:45.317078Z",
     "shell.execute_reply.started": "2021-05-31T13:44:45.297865Z"
    },
    "tags": []
   },
   "outputs": [],
   "source": [
    "word_index = tokenizer.word_index"
   ]
  },
  {
   "cell_type": "code",
   "execution_count": 22,
   "metadata": {
    "execution": {
     "iopub.execute_input": "2021-05-31T13:44:45.322557Z",
     "iopub.status.busy": "2021-05-31T13:44:45.321693Z",
     "iopub.status.idle": "2021-05-31T13:44:48.724668Z",
     "shell.execute_reply": "2021-05-31T13:44:48.723710Z",
     "shell.execute_reply.started": "2021-05-31T13:44:45.322483Z"
    },
    "tags": []
   },
   "outputs": [],
   "source": [
    "tokenized_test = tokenizer.texts_to_sequences(X_test)\n",
    "X_test = pad_sequences(tokenized_test, maxlen=MAX_SEQUENCE_LENGTH)"
   ]
  },
  {
   "cell_type": "code",
   "execution_count": 23,
   "metadata": {
    "execution": {
     "iopub.execute_input": "2021-05-31T13:44:48.732368Z",
     "iopub.status.busy": "2021-05-31T13:44:48.731735Z",
     "iopub.status.idle": "2021-05-31T13:44:48.738602Z",
     "shell.execute_reply": "2021-05-31T13:44:48.736089Z",
     "shell.execute_reply.started": "2021-05-31T13:44:48.732300Z"
    },
    "tags": []
   },
   "outputs": [],
   "source": [
    "path = '/Users/darapetruhnenko/gensim-data/word2vec-google-news-300/word2vec-google-news-300.gz'"
   ]
  },
  {
   "cell_type": "code",
   "execution_count": 24,
   "metadata": {
    "execution": {
     "iopub.execute_input": "2021-05-31T13:44:48.749142Z",
     "iopub.status.busy": "2021-05-31T13:44:48.748501Z",
     "iopub.status.idle": "2021-05-31T13:44:48.755719Z",
     "shell.execute_reply": "2021-05-31T13:44:48.754084Z",
     "shell.execute_reply.started": "2021-05-31T13:44:48.749098Z"
    },
    "tags": []
   },
   "outputs": [],
   "source": [
    "def get_embeddings(path):\n",
    "    \n",
    "    wv_model = KeyedVectors.load_word2vec_format(path, binary=True, limit=500000) \n",
    "    embeddings_index = {}\n",
    "    for word, vector in zip(wv_model.key_to_index, wv_model.vectors):\n",
    "        coefs = np.asarray(vector, dtype='float32')\n",
    "        embeddings_index[word] = coefs\n",
    "  \n",
    "    return embeddings_index"
   ]
  },
  {
   "cell_type": "code",
   "execution_count": 25,
   "metadata": {
    "execution": {
     "iopub.execute_input": "2021-05-31T13:44:48.760548Z",
     "iopub.status.busy": "2021-05-31T13:44:48.759859Z",
     "iopub.status.idle": "2021-05-31T13:45:07.731027Z",
     "shell.execute_reply": "2021-05-31T13:45:07.728419Z",
     "shell.execute_reply.started": "2021-05-31T13:44:48.760503Z"
    },
    "tags": []
   },
   "outputs": [],
   "source": [
    "embeddings_index = get_embeddings(path)"
   ]
  },
  {
   "cell_type": "code",
   "execution_count": 26,
   "metadata": {
    "execution": {
     "iopub.execute_input": "2021-05-31T13:45:07.746256Z",
     "iopub.status.busy": "2021-05-31T13:45:07.745023Z",
     "iopub.status.idle": "2021-05-31T13:45:10.284914Z",
     "shell.execute_reply": "2021-05-31T13:45:10.283769Z",
     "shell.execute_reply.started": "2021-05-31T13:45:07.746152Z"
    },
    "tags": []
   },
   "outputs": [],
   "source": [
    "vocab_size = len(tokenizer.word_index) + 1\n",
    "\n",
    "embedding_matrix = np.zeros((vocab_size, EMBEDDING_DIM))\n",
    "for word, i in word_index.items():\n",
    "    try:\n",
    "        embedding_vector = embeddings_index[word]\n",
    "        embedding_matrix[i] = embedding_vector\n",
    "    except KeyError:\n",
    "        embedding_matrix[i] = np.random.normal(0,np.sqrt(0.25),EMBEDDING_DIM)"
   ]
  },
  {
   "cell_type": "code",
   "execution_count": 27,
   "metadata": {
    "execution": {
     "iopub.execute_input": "2021-05-31T13:45:10.288202Z",
     "iopub.status.busy": "2021-05-31T13:45:10.287704Z",
     "iopub.status.idle": "2021-05-31T13:45:10.483005Z",
     "shell.execute_reply": "2021-05-31T13:45:10.481571Z",
     "shell.execute_reply.started": "2021-05-31T13:45:10.288144Z"
    },
    "tags": []
   },
   "outputs": [],
   "source": [
    "del embeddings_index"
   ]
  },
  {
   "cell_type": "code",
   "execution_count": 32,
   "metadata": {
    "execution": {
     "iopub.execute_input": "2021-05-31T14:14:07.827390Z",
     "iopub.status.busy": "2021-05-31T14:14:07.827003Z",
     "iopub.status.idle": "2021-05-31T14:14:07.864541Z",
     "shell.execute_reply": "2021-05-31T14:14:07.860286Z",
     "shell.execute_reply.started": "2021-05-31T14:14:07.827349Z"
    },
    "tags": []
   },
   "outputs": [],
   "source": [
    "def lstm_net1():\n",
    "    model = Sequential()\n",
    "\n",
    "    model.add(Embedding(vocab_size, output_dim=EMBEDDING_DIM, weights=[embedding_matrix], input_length=MAX_SEQUENCE_LENGTH, trainable=False))\n",
    "    \n",
    "    model.add(LSTM(units=128 , return_sequences = True))\n",
    "    model.add(Dropout(0.2))\n",
    "    model.add(LSTM(units=64))\n",
    "    model.add(Dropout(0.1))\n",
    "    model.add(Dense(units = 32 , activation = 'relu'))\n",
    "    model.add(Dense(1, activation='sigmoid'))\n",
    "    model.compile(optimizer='adam', loss='binary_crossentropy', metrics=['accuracy'])\n",
    "    \n",
    "    return model"
   ]
  },
  {
   "cell_type": "code",
   "execution_count": 33,
   "metadata": {
    "execution": {
     "iopub.execute_input": "2021-05-31T14:14:18.983791Z",
     "iopub.status.busy": "2021-05-31T14:14:18.982988Z",
     "iopub.status.idle": "2021-05-31T14:14:22.273866Z",
     "shell.execute_reply": "2021-05-31T14:14:22.272603Z",
     "shell.execute_reply.started": "2021-05-31T14:14:18.983705Z"
    },
    "tags": []
   },
   "outputs": [
    {
     "name": "stdout",
     "output_type": "stream",
     "text": [
      "Model: \"sequential_1\"\n",
      "_________________________________________________________________\n",
      "Layer (type)                 Output Shape              Param #   \n",
      "=================================================================\n",
      "embedding_1 (Embedding)      (None, 500, 300)          30034200  \n",
      "_________________________________________________________________\n",
      "lstm_1 (LSTM)                (None, 500, 128)          219648    \n",
      "_________________________________________________________________\n",
      "dropout (Dropout)            (None, 500, 128)          0         \n",
      "_________________________________________________________________\n",
      "lstm_2 (LSTM)                (None, 64)                49408     \n",
      "_________________________________________________________________\n",
      "dropout_1 (Dropout)          (None, 64)                0         \n",
      "_________________________________________________________________\n",
      "dense_1 (Dense)              (None, 32)                2080      \n",
      "_________________________________________________________________\n",
      "dense_2 (Dense)              (None, 1)                 33        \n",
      "=================================================================\n",
      "Total params: 30,305,369\n",
      "Trainable params: 271,169\n",
      "Non-trainable params: 30,034,200\n",
      "_________________________________________________________________\n"
     ]
    }
   ],
   "source": [
    "model = lstm_net1()\n",
    "\n",
    "batch_size = 256\n",
    "epochs = 8\n",
    "\n",
    "model.summary()"
   ]
  },
  {
   "cell_type": "code",
   "execution_count": 34,
   "metadata": {
    "execution": {
     "iopub.execute_input": "2021-05-31T14:16:07.119576Z",
     "iopub.status.busy": "2021-05-31T14:16:07.119190Z",
     "iopub.status.idle": "2021-05-31T16:30:34.885902Z",
     "shell.execute_reply": "2021-05-31T16:30:34.871823Z",
     "shell.execute_reply.started": "2021-05-31T14:16:07.119536Z"
    },
    "tags": []
   },
   "outputs": [
    {
     "name": "stdout",
     "output_type": "stream",
     "text": [
      "Epoch 1/10\n",
      "123/123 [==============================] - 774s 6s/step - loss: 0.4300 - accuracy: 0.8244 - val_loss: 0.1484 - val_accuracy: 0.9475\n",
      "Epoch 2/10\n",
      "123/123 [==============================] - 786s 6s/step - loss: 0.1348 - accuracy: 0.9541 - val_loss: 0.1000 - val_accuracy: 0.9661\n",
      "Epoch 3/10\n",
      "123/123 [==============================] - 897s 7s/step - loss: 0.1290 - accuracy: 0.9520 - val_loss: 0.0988 - val_accuracy: 0.9720\n",
      "Epoch 4/10\n",
      "123/123 [==============================] - 877s 7s/step - loss: 0.0682 - accuracy: 0.9794 - val_loss: 0.0815 - val_accuracy: 0.9745\n",
      "Epoch 5/10\n",
      "123/123 [==============================] - 879s 7s/step - loss: 0.0738 - accuracy: 0.9728 - val_loss: 0.1222 - val_accuracy: 0.9585\n",
      "Epoch 6/10\n",
      "123/123 [==============================] - 835s 7s/step - loss: 0.1206 - accuracy: 0.9561 - val_loss: 0.0520 - val_accuracy: 0.9819\n",
      "Epoch 7/10\n",
      "123/123 [==============================] - 752s 6s/step - loss: 0.0695 - accuracy: 0.9788 - val_loss: 0.2637 - val_accuracy: 0.8843\n",
      "Epoch 8/10\n",
      "123/123 [==============================] - 623s 5s/step - loss: 0.1590 - accuracy: 0.9411 - val_loss: 0.0739 - val_accuracy: 0.9804\n",
      "Epoch 9/10\n",
      "123/123 [==============================] - 869s 7s/step - loss: 0.0751 - accuracy: 0.9727 - val_loss: 0.1187 - val_accuracy: 0.9486\n",
      "Epoch 10/10\n",
      "123/123 [==============================] - 776s 6s/step - loss: 0.0869 - accuracy: 0.9715 - val_loss: 0.0502 - val_accuracy: 0.9838\n"
     ]
    }
   ],
   "source": [
    "history = model.fit(X_train, y_train, batch_size = batch_size , validation_data = (X_test,y_test) , epochs = 10)"
   ]
  },
  {
   "cell_type": "code",
   "execution_count": 39,
   "metadata": {
    "execution": {
     "iopub.execute_input": "2021-05-30T14:22:36.749812Z",
     "iopub.status.busy": "2021-05-30T14:22:36.749210Z",
     "iopub.status.idle": "2021-05-30T14:27:02.368345Z",
     "shell.execute_reply": "2021-05-30T14:27:02.366260Z",
     "shell.execute_reply.started": "2021-05-30T14:22:36.749743Z"
    },
    "tags": []
   },
   "outputs": [
    {
     "name": "stdout",
     "output_type": "stream",
     "text": [
      "421/421 [==============================] - 140s 331ms/step - loss: 0.0183 - accuracy: 0.9941\n",
      "Accuracy Score: 99.41351413726807\n",
      "              precision    recall  f1-score   support\n",
      "\n",
      "           0       0.99      1.00      0.99      7034\n",
      "           1       1.00      0.99      0.99      6436\n",
      "\n",
      "    accuracy                           0.99     13470\n",
      "   macro avg       0.99      0.99      0.99     13470\n",
      "weighted avg       0.99      0.99      0.99     13470\n",
      "\n"
     ]
    }
   ],
   "source": [
    "accr_test = model.evaluate(X_test,y_test)\n",
    "print(f'Accuracy Score: {accr_test[1]*100}')\n",
    "pred = model.predict_classes(X_test)\n",
    "print(classification_report(y_test, pred))"
   ]
  },
  {
   "cell_type": "code",
   "execution_count": 43,
   "metadata": {
    "execution": {
     "iopub.execute_input": "2021-05-31T10:08:05.339201Z",
     "iopub.status.busy": "2021-05-31T10:08:05.338823Z",
     "iopub.status.idle": "2021-05-31T10:08:05.834243Z",
     "shell.execute_reply": "2021-05-31T10:08:05.833255Z",
     "shell.execute_reply.started": "2021-05-31T10:08:05.339142Z"
    },
    "tags": []
   },
   "outputs": [
    {
     "data": {
      "image/png": "[encoded data removed]",
      "text/plain": [
       "<Figure size 432x288 with 2 Axes>"
      ]
     },
     "metadata": {
      "needs_background": "light"
     },
     "output_type": "display_data"
    }
   ],
   "source": [
    "cf_matrix = confusion_matrix(y_test,pred)\n",
    "sns.heatmap(cf_matrix, annot=True, fmt='g', xticklabels = ['Fake','Real'] , yticklabels = ['Fake','Real'], cmap='viridis')\n",
    "plt.show()"
   ]
  },
  {
   "cell_type": "code",
   "execution_count": 203,
   "metadata": {
    "execution": {
     "iopub.execute_input": "2021-05-21T15:43:02.463513Z",
     "iopub.status.busy": "2021-05-21T15:43:02.463061Z",
     "iopub.status.idle": "2021-05-21T15:43:02.919571Z",
     "shell.execute_reply": "2021-05-21T15:43:02.918489Z",
     "shell.execute_reply.started": "2021-05-21T15:43:02.463446Z"
    }
   },
   "outputs": [
    {
     "data": {
      "text/plain": [
       "<AxesSubplot:>"
      ]
     },
     "execution_count": 203,
     "metadata": {},
     "output_type": "execute_result"
    },
    {
     "data": {
      "image/png": "[encoded data removed]",
      "text/plain": [
       "<Figure size 432x288 with 2 Axes>"
      ]
     },
     "metadata": {
      "needs_background": "light"
     },
     "output_type": "display_data"
    }
   ],
   "source": [
    "pred_bc = predict_labels(bc, X_test)\n",
    "cf_matrix = confusion_matrix(y_test, pred_bc)\n",
    "sns.heatmap(cf_matrix, annot=True, fmt='g', xticklabels = ['Fake','Real'] , yticklabels = ['Fake','Real'], cmap='viridis')\n",
    "plt.show()"
   ]
  },
  {
   "cell_type": "markdown",
   "metadata": {},
   "source": [
    "В данном случае ансмабли работают лучше, чем нейронная сеть. Точность очень близка к 100%"
   ]
  }
 ],
 "metadata": {
  "kernelspec": {
   "display_name": "Python 3",
   "language": "python",
   "name": "python3"
  },
  "language_info": {
   "codemirror_mode": {
    "name": "ipython",
    "version": 3
   },
   "file_extension": ".py",
   "mimetype": "text/x-python",
   "name": "python",
   "nbconvert_exporter": "python",
   "pygments_lexer": "ipython3",
   "version": "3.8.8"
  }
 },
 "nbformat": 4,
 "nbformat_minor": 4
}
