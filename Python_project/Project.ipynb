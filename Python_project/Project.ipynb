{
 "cells": [
  {
   "cell_type": "markdown",
   "metadata": {
    "slideshow": {
     "slide_type": "subslide"
    }
   },
   "source": [
    "### Подготовка к работе"
   ]
  },
  {
   "cell_type": "code",
   "execution_count": 1,
   "metadata": {
    "ExecuteTime": {
     "end_time": "2021-02-18T14:40:27.057718Z",
     "start_time": "2021-02-18T14:40:23.789340Z"
    },
    "slideshow": {
     "slide_type": "slide"
    }
   },
   "outputs": [],
   "source": [
    "# импорты\n",
    "from nltk import word_tokenize\n",
    "from rusenttokenize import ru_sent_tokenize\n",
    "import random\n",
    "import re\n",
    "from pymorphy2 import MorphAnalyzer\n",
    "from pymystem3 import Mystem\n",
    "import pandas as pd\n",
    "from string import punctuation\n",
    "# from deeppavlov import build_model, configs \n",
    "# dpavlov_model = build_model(\"ru_syntagrus_joint_parsing\", download=True)\n",
    "# сохранили классы в переменные\n",
    "morph = MorphAnalyzer()\n",
    "stem = Mystem()\n",
    "# библиотеки для частотного анализа\n",
    "from sklearn.feature_extraction.text import TfidfVectorizer\n",
    "from nltk.corpus import stopwords\n",
    "russian_stopwords = stopwords.words('russian')\n",
    "from operator import itemgetter\n",
    "\n",
    "import pickle"
   ]
  },
  {
   "cell_type": "code",
   "execution_count": 2,
   "metadata": {
    "ExecuteTime": {
     "end_time": "2021-02-18T14:40:28.745449Z",
     "start_time": "2021-02-18T14:40:28.740449Z"
    }
   },
   "outputs": [],
   "source": [
    "punctuation = '!\"#$%&\\'()*+,-./:;<=>?@[\\]^_`{|}~——«»–−'\n",
    "custom_stop_words = ['это', 'который', 'свой']\n",
    "russian_stopwords.extend(custom_stop_words)"
   ]
  },
  {
   "cell_type": "code",
   "execution_count": 3,
   "metadata": {
    "ExecuteTime": {
     "end_time": "2021-01-31T13:20:52.908383Z",
     "start_time": "2021-01-31T13:20:52.899909Z"
    }
   },
   "outputs": [],
   "source": [
    "# меняем формат вывода, чтобы можно было работать с тегами\n",
    "dpavlov_model['main'].to_output_string = False\n",
    "dpavlov_model['main'].output_format = 'dict'"
   ]
  },
  {
   "cell_type": "markdown",
   "metadata": {},
   "source": [
    "### Функции"
   ]
  },
  {
   "cell_type": "code",
   "execution_count": 3,
   "metadata": {
    "ExecuteTime": {
     "end_time": "2021-02-18T14:40:31.171210Z",
     "start_time": "2021-02-18T14:40:31.161236Z"
    },
    "slideshow": {
     "slide_type": "skip"
    }
   },
   "outputs": [],
   "source": [
    "def pdf_normalize(text):\n",
    "    '''обработка возможных сбоев после копирования из пдф формата'''\n",
    "    text = re.sub(r'\\n', ' ', text)\n",
    "    text = re.sub(r'(?<=\\w)\\- |(?<=\\w)­ ', '', text) # переносы слов\n",
    "    text = re.sub(r' +', ' ', text) # лишние пробелы\n",
    "    text = re.sub(r' \\.', '.', text) # пробел перед точкой\n",
    "    text = re.sub(r' ,', ',', text) # пробел перед запятой\n",
    "    text = re.sub(r' \\)', ')', text) # пробел перед скобкой\n",
    "    text = re.sub('\\(рис\\. \\d.\\d(, \\w)?\\)', '', text) # указание номера рисунка\n",
    "    text = re.sub(r'ё', 'е', text)\n",
    "    text = re.sub(r'\\.(?=[а-яА-Я])', '. ', text) # новое предложение без пробела\n",
    "    text = re.sub(r'\\xad', '', text)\n",
    "    text = re.sub(r'\\w—', ' —', text)\n",
    "    text = re.sub(r'^ ', '', text)\n",
    "    text = re.sub(r'\\x0c', '', text)\n",
    "    return text\n"
   ]
  },
  {
   "cell_type": "code",
   "execution_count": 4,
   "metadata": {
    "ExecuteTime": {
     "end_time": "2021-02-18T14:40:33.544280Z",
     "start_time": "2021-02-18T14:40:33.539084Z"
    }
   },
   "outputs": [],
   "source": [
    "def get_statistics(text):\n",
    "    ''' возвращает общую статистику по тексту: \n",
    "    количество предложений, количество слов (кортежем)'''\n",
    "    text_sents = ru_sent_tokenize(text)\n",
    "    text_words = [word.strip(punctuation) for word in word_tokenize(text)]\n",
    "    text_words = [word for word in text_words if word]\n",
    "    return text_sents, text_words    "
   ]
  },
  {
   "cell_type": "code",
   "execution_count": 5,
   "metadata": {
    "ExecuteTime": {
     "end_time": "2021-02-18T14:40:34.272250Z",
     "start_time": "2021-02-18T14:40:34.265033Z"
    }
   },
   "outputs": [],
   "source": [
    "def preprocessing(text):\n",
    "    tokens = [word.strip(punctuation) for word in word_tokenize(text)]\n",
    "    clean_tokens = [word.lower() for word in tokens if word]\n",
    "    clean_tokens = [word for word in clean_tokens if len(word) > 2]\n",
    "    clean_lemmas = [morph.parse(word)[0].normal_form for \n",
    "                    word in clean_tokens]\n",
    "    clean_lemmas = [word for word in clean_lemmas if \n",
    "                    word not in russian_stopwords]\n",
    "    return clean_lemmas"
   ]
  },
  {
   "cell_type": "code",
   "execution_count": 6,
   "metadata": {
    "ExecuteTime": {
     "end_time": "2021-02-18T14:40:34.930150Z",
     "start_time": "2021-02-18T14:40:34.924077Z"
    }
   },
   "outputs": [],
   "source": [
    "def get_topn_words(vector, n):\n",
    "    '''вовращает n самых частотных слов по данному вектору'''\n",
    "    tfidf_scores = [(feature_names[col], vector[0, col]) for \n",
    "                    col in vector.nonzero()[1]]\n",
    "    freq_list = [pair[0] for pair in sorted(tfidf_scores, key=itemgetter(1), \n",
    "                                                       reverse=True)]\n",
    "    return freq_list[:n]"
   ]
  },
  {
   "cell_type": "code",
   "execution_count": 8,
   "metadata": {
    "ExecuteTime": {
     "end_time": "2021-02-18T14:40:54.587832Z",
     "start_time": "2021-02-18T14:40:54.579541Z"
    }
   },
   "outputs": [],
   "source": [
    "def exercise_dict(parsed_data, pos, value, file_name):\n",
    "    '''1ый аргумент - список, содержащий словари, где слово - это ключ, а значение - \n",
    "    грамматические тэги;\n",
    "        2ой аргумент - часть речи; 3ий - дополнительные тэги;\n",
    "        4ый - имя файла, в который будет записан словарь\n",
    "    '''\n",
    "    pos_ex = {}\n",
    "    for index, sent in parsed_data:\n",
    "        #  предложение из текста\n",
    "        exercise = sents[index] # оригинальное предложение по индексу распарсенного\n",
    "        #  пустая переменная для правильного ответа\n",
    "        correct_answer = ''\n",
    "        #  счетчик наличия части речи\n",
    "        q = 0\n",
    "        for word in sent: # проверка каждого слова в предложении\n",
    "            if word['upos'] == pos and value in word['feats']: # ищем нужную часть речи\n",
    "                q += 1\n",
    "                target_word = f'({ word[\"lemma\"]})'\n",
    "                exercise = exercise.replace(word['word'], target_word) # нужное слово меняется на формат '(lemma)'\n",
    "                correct_answer += word['word'] # записываем правильный ответ (слово из предложения)\n",
    "        if q > 0: # если встретилась часть речи добавляем пары ключ(предложение из текста) - предложение в формате упражнения и правильный ответ\n",
    "            pos_ex[sents[index]] = [exercise, correct_answer]\n",
    "    return pos_ex"
   ]
  },
  {
   "cell_type": "markdown",
   "metadata": {},
   "source": [
    "### Подготовка корпуса"
   ]
  },
  {
   "cell_type": "code",
   "execution_count": 9,
   "metadata": {
    "ExecuteTime": {
     "end_time": "2021-02-18T14:40:59.229846Z",
     "start_time": "2021-02-18T14:40:59.127005Z"
    }
   },
   "outputs": [],
   "source": [
    "# открываем табличку с текстами и мета-информцией\n",
    "df = pd.read_csv('Corpus.csv')\n",
    "pd.set_option('max_colwidth', None)\n",
    "#  создаем строковую переменную для текстов\n",
    "corpus = list(df['текст'])\n",
    "str_corpus = ' '.join(text for text in corpus)\n",
    "\n",
    "# чистим корпус\n",
    "str_corpus = pdf_normalize(str_corpus)\n",
    "# создаем текстовый файл только с текстами\n",
    "# with open('raw_texts.txt', 'w', encoding='utf-8') as f:\n",
    "#     f.write(str_corpus)"
   ]
  },
  {
   "cell_type": "markdown",
   "metadata": {},
   "source": [
    "### Статистика по текстам"
   ]
  },
  {
   "cell_type": "code",
   "execution_count": 10,
   "metadata": {
    "ExecuteTime": {
     "end_time": "2021-02-18T14:41:06.269560Z",
     "start_time": "2021-02-18T14:41:03.754636Z"
    }
   },
   "outputs": [
    {
     "name": "stderr",
     "output_type": "stream",
     "text": [
      "WARNING:root:Something went wrong while tokenizing\n",
      "WARNING:root:Something went wrong while tokenizing\n"
     ]
    }
   ],
   "source": [
    "# переменные с текстами одной тематики\n",
    "materved = ' '.join(list(df.loc[df['тематика'] == 'материаловедение', 'текст']))\n",
    "electr = ' '.join(list(df.loc[df['тематика'] == 'теория электрических цепей',\n",
    "                              'текст']))\n",
    "general = ' '.join(list(df.loc[df['тематика'] == 'общая', 'текст']))\n",
    "materved = pdf_normalize(materved)\n",
    "electr = pdf_normalize(electr)\n",
    "general = pdf_normalize(general)\n",
    "\n",
    "# статистика по каждой тематике\n",
    "materved_sents, materved_words = get_statistics(materved)\n",
    "electr_sents, electr_words = get_statistics(electr)\n",
    "general_sents, general_words = get_statistics(general)\n",
    "\n",
    "# частотные списки для каждой тематики\n",
    "theme_list = [materved, electr, general]\n",
    "tf_idf_vec = TfidfVectorizer(tokenizer=preprocessing)\n",
    "vectors = tf_idf_vec.fit_transform(theme_list)\n",
    "feature_names = tf_idf_vec.get_feature_names()\n",
    "materved_voc = ', '.join(get_topn_words(vectors[0], 50))\n",
    "electr_voc = ', '.join(get_topn_words(vectors[1], 50))\n",
    "general_voc = ', '.join(get_topn_words(vectors[2], 50))"
   ]
  },
  {
   "cell_type": "code",
   "execution_count": 11,
   "metadata": {
    "ExecuteTime": {
     "end_time": "2021-02-18T14:41:09.354569Z",
     "start_time": "2021-02-18T14:41:09.282498Z"
    }
   },
   "outputs": [
    {
     "data": {
      "text/html": [
       "<div>\n",
       "<style scoped>\n",
       "    .dataframe tbody tr th:only-of-type {\n",
       "        vertical-align: middle;\n",
       "    }\n",
       "\n",
       "    .dataframe tbody tr th {\n",
       "        vertical-align: top;\n",
       "    }\n",
       "\n",
       "    .dataframe thead th {\n",
       "        text-align: right;\n",
       "    }\n",
       "</style>\n",
       "<table border=\"1\" class=\"dataframe\">\n",
       "  <thead>\n",
       "    <tr style=\"text-align: right;\">\n",
       "      <th></th>\n",
       "      <th>Кол-во предложений</th>\n",
       "      <th>Кол-во словоупотреблений</th>\n",
       "      <th>Кол-во текстов</th>\n",
       "      <th>Частотный список</th>\n",
       "    </tr>\n",
       "  </thead>\n",
       "  <tbody>\n",
       "    <tr>\n",
       "      <th>материаловедение</th>\n",
       "      <td>444.0</td>\n",
       "      <td>6961.0</td>\n",
       "      <td>15.0</td>\n",
       "      <td>материал, температура, вещество, металл, кристалл, состояние, свойство, кристаллический, решётка, атом, твёрдый, дислокация, кристаллизация, строение, изделие, жидкость, жидкий, давление, форма, плотность, сплав, поверхность, способность, мочь, различный, размер, механический, структура, материаловедение, энергия, переход, аморфный, внешний, определённый, агрегатный, условие, воздействие, система, дефект, находиться, газ, молекула, керамика, зерно, изменение, иметь, являться, объём, коррозия, процесс</td>\n",
       "    </tr>\n",
       "    <tr>\n",
       "      <th>теория электрических цепей</th>\n",
       "      <td>357.0</td>\n",
       "      <td>5404.0</td>\n",
       "      <td>22.0</td>\n",
       "      <td>ток, напряжение, комплексный, ёмкость, сопротивление, электрический, индуктивность, источник, цепь, рисунок, элемент, мощность, значение, амплитуда, энергия, ветвь, функция, гармонический, мгновенный, время, показать, называться, соединение, равный, схема, узел, вывод, положительный, обозначение, контур, активный, направление, выражение, фаза, уравнение, условный, заряд, закон, вид, последовательный, резистор, величина, реальный, свойство, сумма, идеализированный, равно, участок, поле, мнимый</td>\n",
       "    </tr>\n",
       "    <tr>\n",
       "      <th>общая</th>\n",
       "      <td>1465.0</td>\n",
       "      <td>15991.0</td>\n",
       "      <td>51.0</td>\n",
       "      <td>год, русский, человек, москва, город, любить, россия, день, дом, сказать, стать, жизнь, друг, художник, жить, известный, время, мочь, писатель, университет, институт, первый, весь, толстой, знать, всё, самый, земля, хороший, учёный, картина, посмотреть, война, великий, царский, ответить, академия, работать, век, очень, музей, решить, центр, большой, час, писать, деньга, столица, находиться, санкт-петербург</td>\n",
       "    </tr>\n",
       "    <tr>\n",
       "      <th>Total</th>\n",
       "      <td>2266.0</td>\n",
       "      <td>28356.0</td>\n",
       "      <td>88.0</td>\n",
       "      <td>NaN</td>\n",
       "    </tr>\n",
       "  </tbody>\n",
       "</table>\n",
       "</div>"
      ],
      "text/plain": [
       "                            Кол-во предложений  Кол-во словоупотреблений  \\\n",
       "материаловедение                         444.0                    6961.0   \n",
       "теория электрических цепей               357.0                    5404.0   \n",
       "общая                                   1465.0                   15991.0   \n",
       "Total                                   2266.0                   28356.0   \n",
       "\n",
       "                            Кол-во текстов  \\\n",
       "материаловедение                      15.0   \n",
       "теория электрических цепей            22.0   \n",
       "общая                                 51.0   \n",
       "Total                                 88.0   \n",
       "\n",
       "                                                                                                                                                                                                                                                                                                                                                                                                                                                                                                                                     Частотный список  \n",
       "материаловедение            материал, температура, вещество, металл, кристалл, состояние, свойство, кристаллический, решётка, атом, твёрдый, дислокация, кристаллизация, строение, изделие, жидкость, жидкий, давление, форма, плотность, сплав, поверхность, способность, мочь, различный, размер, механический, структура, материаловедение, энергия, переход, аморфный, внешний, определённый, агрегатный, условие, воздействие, система, дефект, находиться, газ, молекула, керамика, зерно, изменение, иметь, являться, объём, коррозия, процесс  \n",
       "теория электрических цепей          ток, напряжение, комплексный, ёмкость, сопротивление, электрический, индуктивность, источник, цепь, рисунок, элемент, мощность, значение, амплитуда, энергия, ветвь, функция, гармонический, мгновенный, время, показать, называться, соединение, равный, схема, узел, вывод, положительный, обозначение, контур, активный, направление, выражение, фаза, уравнение, условный, заряд, закон, вид, последовательный, резистор, величина, реальный, свойство, сумма, идеализированный, равно, участок, поле, мнимый  \n",
       "общая                                                                                                                       год, русский, человек, москва, город, любить, россия, день, дом, сказать, стать, жизнь, друг, художник, жить, известный, время, мочь, писатель, университет, институт, первый, весь, толстой, знать, всё, самый, земля, хороший, учёный, картина, посмотреть, война, великий, царский, ответить, академия, работать, век, очень, музей, решить, центр, большой, час, писать, деньга, столица, находиться, санкт-петербург  \n",
       "Total                                                                                                                                                                                                                                                                                                                                                                                                                                                                                                                                             NaN  "
      ]
     },
     "execution_count": 11,
     "metadata": {},
     "output_type": "execute_result"
    }
   ],
   "source": [
    "data = [[len(materved_sents), len(materved_words), materved_voc],\n",
    "        [len(electr_sents), len(electr_words), electr_voc],\n",
    "        [len(general_sents), len(general_words), general_voc]]\n",
    "df_stat = pd.DataFrame(data, \n",
    "                       index = ['материаловедение', 'теория электрических цепей', \n",
    "                                'общая'], \n",
    "                       columns = ['Кол-во предложений', 'Кол-во словоупотреблений', \n",
    "                                  'Частотный список' ])\n",
    "df_stat.insert(2, 'Кол-во текстов', df['тематика'].value_counts())\n",
    "df_stat.loc['Total'] = df_stat.sum(numeric_only=True, axis=0)\n",
    "df_stat"
   ]
  },
  {
   "cell_type": "code",
   "execution_count": 13,
   "metadata": {
    "ExecuteTime": {
     "end_time": "2021-02-18T14:45:43.174390Z",
     "start_time": "2021-02-18T14:45:41.800817Z"
    }
   },
   "outputs": [
    {
     "data": {
      "text/plain": [
       "array([[<AxesSubplot:ylabel='Кол-во предложений'>,\n",
       "        <AxesSubplot:ylabel='Кол-во словоупотреблений'>,\n",
       "        <AxesSubplot:ylabel='Кол-во текстов'>],\n",
       "       [<AxesSubplot:>, <AxesSubplot:>, <AxesSubplot:>]], dtype=object)"
      ]
     },
     "execution_count": 13,
     "metadata": {},
     "output_type": "execute_result"
    },
    {
     "data": {
      "image/png": "[encoded data removed]",
      "text/plain": [
       "<Figure size 1008x576 with 6 Axes>"
      ]
     },
     "metadata": {
      "needs_background": "light"
     },
     "output_type": "display_data"
    }
   ],
   "source": [
    "pieplot_cols = ['Кол-во предложений', 'Кол-во словоупотреблений', 'Кол-во текстов']\n",
    "df_stat[pieplot_cols].iloc[:3].plot(kind='pie', subplots=True, layout=(2,3), figsize=(14,8))"
   ]
  },
  {
   "cell_type": "markdown",
   "metadata": {},
   "source": [
    "### Извлечение предложений с нужными частями речи"
   ]
  },
  {
   "cell_type": "code",
   "execution_count": 9,
   "metadata": {
    "ExecuteTime": {
     "end_time": "2021-01-31T13:21:09.160970Z",
     "start_time": "2021-01-31T13:21:08.290025Z"
    },
    "collapsed": true,
    "jupyter": {
     "outputs_hidden": true
    }
   },
   "outputs": [
    {
     "name": "stdout",
     "output_type": "stream",
     "text": [
      "(13, 'Большие увеличения позволяют определять в этом случае размеры, форму, взаимное расположение и количество кристаллов различных фаз, т. е. микроструктуру материала.')\n",
      "(22, 'Композиты представляют собой комбинацию из двух (или большего числа) отдельных материалов, относящихся к различным классам веществ, перечисленным выше, т. е. металлов, керамики и полимеров.')\n",
      "(28, 'Материалы этого типа не должны выделять токсичных веществ и должны быть совместимыми с тканями человека (т. е. не должны вызывать реакции отторжения).')\n",
      "(81, 'Стеклообразное состояние вещества – агрегатное состояние вещества с аморфным строением, формирующееся при затвердевании переохлажденного расплава и обладающее в результате постепенного увеличения вязкости механическими свойствами твердых тел. Переход из стеклообразного состояния в расплав и из расплава в стеклообразное состояние характеризуется температурным интервалом, а его обратимость является особенностью, которая отличает стеклообразное состояние от других аморфных.')\n",
      "(96, 'В 1848 г. французский ученый Браве показал, что изученные трансляционные структуры и элементы симметрии позволяют выделить 14 типов кристаллических решеток.')\n",
      "(101, 'На рис. 4.3 показаны три типа элементарных ячеек кристаллических решеток, наиболее характерных для металлов: кубическая объемно-центрированная (ОЦК), кубическая гранецентрированная (ГЦК), гексагональная плотноупакованная (ГПУ).')\n",
      "(111, 'Встречающиеся в природе кристаллы, как монокристаллы, так и зерна в поликристаллах, никогда не обладают такой строгой периодичностью в расположении атомов, о которой говорилось выше, т. е. не являются «идеальными» кристаллами.')\n",
      "(137, 'Она формируется и перемещается при сдвиге одной части кристалла относительно другой по какой-нибудь плоскости под действием внешних сдвиговых сил Р. На схеме сдвиг распространился от переднего края кристалла до линии АВ, параллельной силам Р. При этом правый край кристалла сместился вниз на параметр решетки.')\n",
      "(140, 'Если проследить ход этих плоскостей от левой части кристалла к правой вокруг АВ сверху вниз, то окажется, что все они, т. е. атомные слои плоскости, как бы представляют одну винтовую поверхность, закрученную вокруг АВ по часовой стрелке в данном случае.')\n",
      "(162, 'К объемным дефектам относятся такие, которые имеют размеры в трех измерениях: поры, газовые пузыри, неметаллические включения, микротрещины и т. д. Эти дефекты снижают прочность металла.')\n",
      "(177, 'Любой самопроизвольно текущий процесс идет только в том случае, если новое состояние более устойчиво, т. е. обладает меньшим запасом свободной энергии.')\n",
      "(180, 'Шарик 1 на рис. 5.1, б находится в неустойчивом положении и при изменении внешних условий может занять положение 2 или 3.')\n",
      "(185, 'Схематически характер изменения свободной энергии жидкого и твердого состояний с температурой показан на рис. 5.2. Свободной энергией является такая составляющая внутренней энергии, которая в определенных условиях может быть превращена в работу: F = U – TS, где F - свободная энергия; U – полная внутренняя энергия системы; Т – температура; S – энтропия.')\n",
      "(228, 'В результате, из небольшого числа центров кристаллизации начинают расти нормально ориентированные к поверхности корки (т. е. в направлении отвода тепла) столбчатые кристаллы.')\n",
      "(298, 'В зависимости от степени локализации различают пятнистую, язвенную, точечную, межкристаллитную и др. виды местной коррозии.')\n",
      "(349, 'Среди характеристик обрабатываемости давлением используют, например, ковкость (способность металлов и сплавов подвергаться ковке и др. видам обработки давлением (прокатке, волочению, прессованию, штамповке).')\n",
      "(379, 'Материаловедение – наука, изучающая связь между строением (структурой) и свойствами материала, а также их изменения при внешних воздействиях (тепловом, механическом, химическом и т. д.).')\n",
      "(460, 'К таким источникам относятся блоки питания, стабилизаторы напряжения, электрические подстанции и т. п.')\n",
      "(483, 'Реальные элементы (катушки индуктивности, резисторы, потенциометры, реостаты и т. п.) проявляют в той или иной степени свойства, присущие идеальным пассивным элементам всех трех видов (резистивные, индуктивные, емкостные), что учитывается при построении их расчетных моделей.')\n",
      "(498, 'Величина 𝐺, обратно пропорциональная сопротивлению 𝑅, называется проводимостью: 𝐺 = 1 / R. График зависимости тока от напряжения на сопротивлении 𝑖𝑅 (𝑢𝑅) называется вольт-амперной характеристикой, сокращенно ВАХ.')\n",
      "(521, 'Рядом с графическим обозначением ставят его условное буквенное обозначение С. Зависимость заряда 𝑞, накопленного емкостью, от напряжения на емкости 𝑢𝐶, называется кулон-вольтной характеристикой.')\n",
      "(526, 'Для линейной емкости производная заряда 𝑞 по напряжению 𝑢𝐶 равна емкости С. Производная заряда 𝑞 по времени 𝑡 определяет ток емкости.')\n",
      "(529, 'Для того, чтобы рассчитать напряжение 𝑢𝐶, необходимо рассчитать интеграл от тока 𝑖С по времени 𝑡 и разделить результат на величину емкости С. Интегрирование ведется с момента времени 𝑡 = −∞ для того, чтобы учесть все возможные изменения заряда емкости.')\n",
      "(540, 'Сокращенное обозначение – Ф. Катушка индуктивности – реальный элемент электрической цепи, обладающий основным свойством запасать энергию магнитного поля.')\n",
      "(629, 'Здесь первая ветвь образована последовательным соединением резистора 𝑅 и индуктивности 𝐿, вторая ветвь состоит только из одной емкости С. Контур – любой замкнутый путь, проходящий по ветвям (не более одного раза по каждой ветви).')\n",
      "(885, 'А Московский государственный университет, основанный в 1755 году М. В Ломоносовым, и в настоящее время является лучшим вузом России.')\n",
      "(889, 'В Москве находится сокровищница русского национального искусства — Третьяковская галерея, Музей изобразительных искусств имени А. С. Пушкина, множество литературных музеев, связанных с именами русских писателей: Л. Н. Толстого, А. П. Чехова и других.')\n",
      "(900, 'В разные годы в Москве жили и создавали свой произведения великие русские писатели: А. С. Пушкин, М. Ю. Лермонтов, Л. Н. Толстой и другие.')\n",
      "(902, 'М. Ю. Лермонтов писал: Москва!')\n",
      "(912, 'Профессор В. Урланис.')\n",
      "(916, 'Академик А. Урсул.')\n",
      "(919, 'Профессор В. Степанов.')\n",
      "(950, 'Известный ученый М. В. Ломоносов рассказывал, что однажды во сне он увидел своего отца, лежащего мертвым после кораблекрушения на необитаемом маленьком острове в Белом море.')\n",
      "(1007, 'Их проводил большой коллектив ученых и инженеров, который возглавляли Ф. А. Цандер и С. П. Королев.')\n",
      "(1173, 'Один из знаменитых Овнов Н. С. Хрущев, чтобы заставить себя слушать, стучал ботинком по трибуне в зале заседаний Генеральной Ассамблеи ООН в Нью-Йорке.')\n",
      "(1192, 'Под этим знаком рождены A. С. Пушкин, А. Конан-Дойль, П. Гоген, Р. Вагнер, М. Монро, Дж.')\n",
      "(1203, 'Под знаком Рака рождены Ю. Цезарь, Рембрандт, Рубенс, И. Стравинский, Луи Армстронг, Э. Хемингуэй, Н. Рокфеллер.')\n",
      "(1214, 'Среди известных Львов были Наполеон, А. Дюма-отец, Мопассан, Муссолини, Г. Форд, Ф. Кастро, Дж.')\n",
      "(1215, 'Б. Шоу, А. Хичкок.')\n",
      "(1224, 'Под знаком Девы рождены Ришелье, Гете, Лев Толстой, Д. Шостакович, Софи Лорен.')\n",
      "(1234, 'Под этим знаком рождены М. Ганди, Дж.')\n",
      "(1235, 'Верди, М. Лермонтов, Дж.')\n",
      "(1236, 'Леннон, М. Мастроянни, Б. Бардо.')\n",
      "(1244, 'Неру, И. Ганди.')\n",
      "(1257, 'Под этим знаком рождены Жанна д’Арк, Иоганн Кеплер, И. Ньютон, Луи Пастер, Э. По, Р. Киплинг.')\n",
      "(1265, 'Знаменитыми Водолеями были Г. Галилей, Ф. Бэкон, Ч. Дарвин, Т. Эдисон, Ч. Диккенс, А. Линкольн, Р. Рейган.')\n",
      "(1272, 'Под знаком Рыб рождены В. Гюго, М. Мусоргский, С. Рахманинов, Ф. Шопен, Н. Римский-Корсаков, А. Эйнштейн.')\n",
      "(1473, 'Курт, Марина и Саша осмотрели эти прекрасные соборы и церкви, погуляли по территории Кремля, а вечером они пошли в Большой театр и смотрели там балет П. И. Чайковского «Спящая красавица».')\n",
      "(1511, 'В его петербургской квартире на «менделеевских средах» бывали известные художники И. Е. Репин, И. И. Крамской, писатели Ф. М. Достоевский, И. С. Тургенев, критик В. В. Стасов.')\n",
      "(1514, 'В 1907 году ученый умер, а в 1911 году в Петербургском университете в главном здании на первом этаже открыли музей Д. И. Менделеева.')\n",
      "(1522, 'В 1912 году окончили этот институт только три студентки — А. И. Соколова, А. Ф. Нечипуренко и А. А. Иваницкая.')\n",
      "(1594, 'Многие известные ученые, в том числе М. В. Ломоносов, Д. И. Менделеев, И. П. Павлов, работали в Санкт-Петербурге.')\n",
      "(1613, 'Долгое время в этом здании работал великий русский ученый академик М. В. Ломоносов.')\n",
      "(1614, 'Сейчас здесь находятся Музей антропологии и этнографии имени Петра Великого и Музей М. В. Ломоносова.')\n",
      "(1617, 'Его построили в 1742 году по проекту архитектора Д. Трезини.')\n",
      "(1619, 'Здесь работали выдающиеся ученые Д. И. Менделеев, И. П. Павлов, А. С. Попов и многие другие.')\n",
      "(1620, 'В Петербургском университете учились известные писатели И. С. Тургенев и А. А. Блок, композиторы М. И. Глинка и А. К. Глазунов, политики П. А. Столыпин и А. Ф. Керенский.')\n",
      "(1778, 'В 1811 году в Царском Селе был открыт Лицей, в котором воспитывался А. С. Пушкин.')\n",
      "(1841, 'Кшесинская училась у знаменитых хореографов Э. Чегетти и X. Иогансона и после окончания курса обучения поступила в Мариинский театр.')\n",
      "(1882, 'Белая армия вошла в Екатеринбург, и по приказу адмирала Колчака следователь А. П. Соколов начал расследование убийства Николая Второго.')\n",
      "(1981, 'Фабрикант Савва Морозов помогал издавать книги М. Горького, поддерживал артистов Московского художественного театра.')\n",
      "(1990, 'Среди них художественные: Третьяковская галерея, Музей изобразительных искусств имени А. С. Пушкина, Музей древнерусской живописи имени Андрея Рублева; литературные: музеи А С. Пушкина, М. Ю. Лермонтова, Л. Н. Толстого, А. П. Чехова, М. Горького, В. В. Маяковского.')\n",
      "(2025, 'Рано лишившись родителей, М. Горький провел детство в семье своего деда Каширина.')\n",
      "(2070, 'Константин Георгиевич Паустовский, русский писатель, родился в 1892 г. в Москве в семье железнодорожного служащего.')\n",
      "(2075, 'В 1911 г. поступил на естественно-исторический факультет Киевского университета.')\n",
      "(2076, 'В 1913 г. Паустовский переехал в Москву и продолжил обучение на юридическом факультете Московского университета, однако не окончил его.')\n",
      "(2081, 'Умер писатель в 1968 г. в Москве.')\n"
     ]
    }
   ],
   "source": [
    "with open('raw_texts.txt', 'r', encoding='utf-8') as f:\n",
    "    texts = f.read()\n",
    "sents = ru_sent_tokenize(texts)\n",
    "\n",
    "# проверка на неверно разделенные предложения\n",
    "for sent in enumerate(sents):\n",
    "    if re.search(r'\\w\\. \\w', sent[1]):\n",
    "        print(sent)\n",
    "# исправления для одного предложения, разделенного на несколько\n",
    "sents[1192] += sents[1193]\n",
    "\n",
    "sents[1214] += sents[1215]\n",
    "\n",
    "sents[1234] = sents[1234] + sents[1235] + sents[1236]\n",
    "\n",
    "sents[1243] += sents[1244]\n",
    "# исправления для нескольких предложений, склеенных в одно\n",
    "pattern = re.compile('(?<=\\.) (?=[А-Я])') \n",
    "for sent in [81, 137, 162, 185, 498, 521, 526, 529, 540, 629]:\n",
    "    sents.extend(pattern.split(sents[sent]))\n",
    "# удаляем исправленные предложения\n",
    "sents_to_remove = []\n",
    "for sent in [81, 137, 162, 185, 498, 521, 526, 529, 540, 629, 1193, 1215, \n",
    "             1235, 1236, 1244]:\n",
    "    sents_to_remove.append(sents[sent])\n",
    "for elem in sents_to_remove:\n",
    "    sents.remove(elem)"
   ]
  },
  {
   "cell_type": "markdown",
   "metadata": {},
   "source": [
    "Примерно 15 ошибок на 2276 предложений - получается, менее 1%."
   ]
  },
  {
   "cell_type": "code",
   "execution_count": 10,
   "metadata": {
    "ExecuteTime": {
     "end_time": "2021-01-31T13:50:49.323404Z",
     "start_time": "2021-01-31T13:21:23.395695Z"
    },
    "collapsed": true,
    "jupyter": {
     "outputs_hidden": true
    }
   },
   "outputs": [
    {
     "data": {
      "text/plain": [
       "2276"
      ]
     },
     "execution_count": 10,
     "metadata": {},
     "output_type": "execute_result"
    }
   ],
   "source": [
    "# парсить пришлось отдельными частями, потому что если полностью, то почему-то зависало\n",
    "parsed_sents = dpavlov_model(sents[:500])\n",
    "parsed_sents_part2 = dpavlov_model(sents[500:1000])\n",
    "parsed_sents_part3 = dpavlov_model(sents[1000:1500])\n",
    "parsed_sents_part4 = dpavlov_model(sents[1500:2000])\n",
    "parsed_sents_part5 = dpavlov_model(sents[2000:])\n",
    "# объединяем все вместе\n",
    "sents_list = [parsed_sents_part2, parsed_sents_part3, parsed_sents_part4, \n",
    "              parsed_sents_part5]\n",
    "for part in sents_list:\n",
    "    parsed_sents.extend(part)\n",
    "\n",
    "len(parsed_sents)"
   ]
  },
  {
   "cell_type": "code",
   "execution_count": 11,
   "metadata": {
    "ExecuteTime": {
     "end_time": "2021-01-31T15:58:01.607159Z",
     "start_time": "2021-01-31T15:58:01.554532Z"
    }
   },
   "outputs": [],
   "source": [
    "# словарь для упражнений\n",
    "parsed_sents_en = list(enumerate(parsed_sents))\n",
    "exercise_dict(parsed_sents_en, 'VERB', 'Case', 'prtf.pickle')\n",
    "exercise_dict(parsed_sents_en, 'VERB', 'Short', 'prtf_short.pickle')\n",
    "exercise_dict(parsed_sents_en, 'ADJ', 'Cmp', 'adj_cmp.pickle')\n",
    "exercise_dict(parsed_sents_en, 'ADJ', 'Sup', 'adj_sup.pickle')"
   ]
  },
  {
   "cell_type": "code",
   "execution_count": 53,
   "metadata": {
    "ExecuteTime": {
     "end_time": "2021-01-31T17:44:18.372890Z",
     "start_time": "2021-01-31T17:44:17.234021Z"
    }
   },
   "outputs": [],
   "source": [
    "suspicious_sents = {}\n",
    "okay_sents = {}\n",
    "for sent in parsed_sents_en:\n",
    "    exercise = sents[sent[0]]\n",
    "    correct_answer = ''\n",
    "    q = 0\n",
    "    neg = 0\n",
    "    for word in sent[1]:\n",
    "        if word['upos'] == 'ADJ' and 'Short' not in word['feats']:\n",
    "            if morph.parse(word['word'])[0].tag.POS == 'ADJF':\n",
    "                q += 1\n",
    "                target_word = f'({word['lemma'])'\n",
    "                exercise = exercise.replace(word['word'], target_word)\n",
    "                correct_answer += word['word']\n",
    "                \n",
    "            else:\n",
    "                neg += 1\n",
    "                target_word = f'(word['lemma'])'\n",
    "                exercise = exercise.replace(word['word'], target_word)\n",
    "                correct_answer += word['word']\n",
    "                \n",
    "                \n",
    "    if q > 0 and neg == 0:\n",
    "        okay_sents[sents[sent[0]]] = [exercise, correct_answer]\n",
    "    elif neg > 0:\n",
    "        suspicious_sents[sents[sent[0]]] = [exercise, correct_answer]\n",
    "        \n",
    "with open('ADJ_full.pickle', 'wb') as f:\n",
    "    pickle.dump(okay_sents, f)"
   ]
  },
  {
   "cell_type": "code",
   "execution_count": 57,
   "metadata": {
    "ExecuteTime": {
     "end_time": "2021-01-31T17:57:45.315246Z",
     "start_time": "2021-01-31T17:57:45.008290Z"
    }
   },
   "outputs": [],
   "source": [
    "suspicious_sents2 = {}\n",
    "okay_sents2 = {}\n",
    "for sent in parsed_sents_en:\n",
    "    exercise = sents[sent[0]]\n",
    "    correct_answer = ''\n",
    "    q = 0\n",
    "    neg = 0\n",
    "    for word in sent[1]:\n",
    "        if word['upos'] == 'ADJ' and 'Short' in word['feats']:\n",
    "            if morph.parse(word['word'])[0].tag.POS == 'ADJS':\n",
    "                q += 1\n",
    "                target_word = f'({word['lemma']})'\n",
    "                exercise = exercise.replace(word['word'], target_word)\n",
    "                correct_answer += word['word']\n",
    "                \n",
    "            else:\n",
    "                neg += 1\n",
    "                target_word = f'({word['lemma'])'\n",
    "                exercise = exercise.replace(word['word'], target_word)\n",
    "                correct_answer += word['word']\n",
    "                \n",
    "                \n",
    "    if q > 0 and neg == 0:\n",
    "        okay_sents2[sents[sent[0]]] = [exercise, correct_answer]\n",
    "    elif neg > 0:\n",
    "        suspicious_sents2[sents[sent[0]]] = [exercise, correct_answer]\n",
    "        \n",
    "with open('ADJ_short.pickle', 'wb') as f:\n",
    "    pickle.dump(okay_sents2, f)"
   ]
  }
 ],
 "metadata": {
  "kernelspec": {
   "display_name": "Python 3",
   "language": "python",
   "name": "python3"
  },
  "language_info": {
   "codemirror_mode": {
    "name": "ipython",
    "version": 3
   },
   "file_extension": ".py",
   "mimetype": "text/x-python",
   "name": "python",
   "nbconvert_exporter": "python",
   "pygments_lexer": "ipython3",
   "version": "3.9.1"
  },
  "latex_envs": {
   "LaTeX_envs_menu_present": true,
   "autoclose": false,
   "autocomplete": true,
   "bibliofile": "biblio.bib",
   "cite_by": "apalike",
   "current_citInitial": 1,
   "eqLabelWithNumbers": true,
   "eqNumInitial": 1,
   "hotkeys": {
    "equation": "Ctrl-E",
    "itemize": "Ctrl-I"
   },
   "labels_anchors": false,
   "latex_user_defs": false,
   "report_style_numbering": false,
   "user_envs_cfg": false
  },
  "toc": {
   "base_numbering": "1",
   "nav_menu": {},
   "number_sections": true,
   "sideBar": true,
   "skip_h1_title": false,
   "title_cell": "Table of Contents",
   "title_sidebar": "Contents",
   "toc_cell": false,
   "toc_position": {
    "height": "calc(100% - 180px)",
    "left": "10px",
    "top": "150px",
    "width": "273.188px"
   },
   "toc_section_display": true,
   "toc_window_display": true
  },
  "varInspector": {
   "cols": {
    "lenName": 16,
    "lenType": 16,
    "lenVar": 40
   },
   "kernels_config": {
    "python": {
     "delete_cmd_postfix": "",
     "delete_cmd_prefix": "del ",
     "library": "var_list.py",
     "varRefreshCmd": "print(var_dic_list())"
    },
    "r": {
     "delete_cmd_postfix": ") ",
     "delete_cmd_prefix": "rm(",
     "library": "var_list.r",
     "varRefreshCmd": "cat(var_dic_list()) "
    }
   },
   "position": {
    "height": "321.771px",
    "left": "1172.98px",
    "right": "20px",
    "top": "219.965px",
    "width": "320px"
   },
   "types_to_exclude": [
    "module",
    "function",
    "builtin_function_or_method",
    "instance",
    "_Feature"
   ],
   "window_display": false
  }
 },
 "nbformat": 4,
 "nbformat_minor": 4
}
