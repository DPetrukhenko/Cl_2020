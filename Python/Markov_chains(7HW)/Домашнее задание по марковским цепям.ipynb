{
 "cells": [
  {
   "cell_type": "code",
   "execution_count": 678,
   "metadata": {},
   "outputs": [],
   "source": [
    "import requests as rq\n",
    "from bs4 import BeautifulSoup\n",
    "import markovify\n",
    "import re"
   ]
  },
  {
   "cell_type": "code",
   "execution_count": 62,
   "metadata": {},
   "outputs": [
    {
     "name": "stdout",
     "output_type": "stream",
     "text": [
      "Should we proceed?y\n",
      "Should we proceed?y\n",
      "Should we proceed?y\n",
      "Should we proceed?y\n",
      "Should we proceed?y\n",
      "Should we proceed?y\n",
      "Should we proceed?y\n",
      "Should we proceed?y\n",
      "Should we proceed?y\n",
      "Should we proceed?y\n",
      "Should we proceed?y\n",
      "Should we proceed?y\n",
      "Should we proceed?y\n",
      "Should we proceed?y\n",
      "Should we proceed?y\n",
      "Should we proceed?y\n",
      "Should we proceed?y\n",
      "Should we proceed?y\n",
      "Should we proceed?y\n",
      "Should we proceed?y\n"
     ]
    }
   ],
   "source": [
    "# статьи с архивного сайта Игромании\n",
    "articles = ''\n",
    "url = 'http://old.igromania.ru/articles/?emul=1&section=3928%7C34%7C37%7C39%7C40%7C36%7C9326%7C9348%7C11102&page=1'\n",
    "page_num = 0\n",
    "while page_num < 20:\n",
    "    page_num += 1\n",
    "    page_url = url[:-len(str(page_num))] + str(page_num)\n",
    "    page = rq.get(url)\n",
    "    page_soup = BeautifulSoup(page.text, 'html.parser') \n",
    "    for title in page_soup.find_all('a', {'class':'clr'}):\n",
    "        art_url = 'http://old.igromania.ru' + title['href']\n",
    "        art_page = rq.get(art_url)\n",
    "        art_soup = BeautifulSoup(art_page.text, 'html.parser')\n",
    "        articles += art_soup.find('title').text\n",
    "        try:\n",
    "            articles += art_soup.find('div', {'itemprop':'articleBody'}).text\n",
    "        except AttributeError:\n",
    "            pass\n",
    "    proceed = input('Should we proceed?')\n",
    "    if proceed == 'n':\n",
    "        break"
   ]
  },
  {
   "cell_type": "code",
   "execution_count": 65,
   "metadata": {},
   "outputs": [],
   "source": [
    "articles = re.sub(r'Загрузка плеера...', '', articles)\n",
    "articles = re.sub(r'Читать подробнее', '', articles)"
   ]
  },
  {
   "cell_type": "code",
   "execution_count": 628,
   "metadata": {},
   "outputs": [],
   "source": [
    "# Несколько романов Достоевского\n",
    "with open('Dostoevsky.txt', 'r') as f:\n",
    "    dostoevsky = f.read()\n",
    "    \n",
    "dostoevsky = re.sub(r'[*A-Za-z0-9\\[\\]]+', '', dostoevsky)\n",
    "dostoevsky_clean = re.sub(r'\\s+', ' ', dostoevsky)"
   ]
  },
  {
   "cell_type": "code",
   "execution_count": 630,
   "metadata": {},
   "outputs": [],
   "source": [
    "initial_articles = markovify.Text(articles)\n",
    "initial_dostoevsky = markovify.Text(dostoevsky_clean)\n",
    "\n",
    "model_combo = markovify.combine([ initial_articles, initial_dostoevsky ], [ 1.2, 1 ])"
   ]
  },
  {
   "cell_type": "code",
   "execution_count": 676,
   "metadata": {},
   "outputs": [
    {
     "name": "stdout",
     "output_type": "stream",
     "text": [
      "В начале одной из провинций паркует свой «Хаммер» возле частной взлетно-посадочной вертолетной площадки и заходит в дом под предлогом того, что на самоощущение.\n"
     ]
    }
   ],
   "source": [
    "for _ in range(1):\n",
    "    print(model_combo.make_sentence(), sep = \"\\n\")"
   ]
  },
  {
   "cell_type": "code",
   "execution_count": 650,
   "metadata": {},
   "outputs": [
    {
     "name": "stdout",
     "output_type": "stream",
     "text": [
      "Игра стабильно выдает положенные 60 кадров в секунду, так что под маской Бэтмена скрывается Брюс Уэйн.\n"
     ]
    }
   ],
   "source": [
    "for i in range(1):\n",
    "    print(model_combo.make_short_sentence(150))"
   ]
  },
  {
   "cell_type": "code",
   "execution_count": null,
   "metadata": {},
   "outputs": [],
   "source": []
  }
 ],
 "metadata": {
  "kernelspec": {
   "display_name": "Python 3",
   "language": "python",
   "name": "python3"
  },
  "language_info": {
   "codemirror_mode": {
    "name": "ipython",
    "version": 3
   },
   "file_extension": ".py",
   "mimetype": "text/x-python",
   "name": "python",
   "nbconvert_exporter": "python",
   "pygments_lexer": "ipython3",
   "version": "3.8.8"
  }
 },
 "nbformat": 4,
 "nbformat_minor": 4
}
