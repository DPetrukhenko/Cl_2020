{
 "cells": [
  {
   "cell_type": "markdown",
   "metadata": {
    "colab_type": "text",
    "id": "2fhNcFP0zYYq"
   },
   "source": [
    "## идеи дальше:\n",
    "(на выбор)\n",
    "1. Выбрать текст (на русском), с которым было бы интересно поработать. Попробовать вытащить все тройки предикат-субъект-объект из выбранного текста, посмотреть на результат, проинтерпретировать\n",
    "2. Написать функцию,которая бы учитывала сложные сказуемые *(начинает уходить, устал думать)* как единый элемент (она похожа на функцию, которая собирает однородные дополнения, нам также нужно что-то сделать с тегами)\n",
    "3. попробовать предобученные модели для других языков\n",
    "4. Попробовать парсеры на предложениях с [синтаксической омонимией](https://github.com/sjut/DPO_Materials/blob/ff1341f1d82ca11a763e15d76601bd6898958323/%D0%9F%D1%80%D0%B0%D0%BA%D1%82%D0%B8%D1%87%D0%B5%D1%81%D0%BA%D0%B8%D0%B5%20%D0%B7%D0%B0%D0%BD%D1%8F%D1%82%D0%B8%D1%8F/%D1%81%D0%B8%D0%BD%D1%82_%D0%BD%D0%B5%D0%BE%D0%B4%D0%BD%D0%BE%D0%B7%D0%BD%D0%B0%D1%87%D0%BD%D0%BE%D1%81%D1%82%D1%8C.txt), проинтерпретировать результаты \n",
    "(для этого текст, который вы хотите анализировать, необходимо сохранить в переменную одним из удобных способов)"
   ]
  },
  {
   "cell_type": "code",
   "execution_count": 2,
   "metadata": {
    "colab": {
     "base_uri": "https://localhost:8080/"
    },
    "execution": {
     "iopub.execute_input": "2021-05-22T20:38:11.312866Z",
     "iopub.status.busy": "2021-05-22T20:38:11.312531Z",
     "iopub.status.idle": "2021-05-22T20:38:14.507446Z",
     "shell.execute_reply": "2021-05-22T20:38:14.505509Z",
     "shell.execute_reply.started": "2021-05-22T20:38:11.312831Z"
    },
    "id": "3Ba6HC8jJsoV",
    "outputId": "3103ed6c-13d2-44ac-d7a9-9fee065e6f16",
    "tags": []
   },
   "outputs": [],
   "source": [
    "from ufal.udpipe import Model, Pipeline \n",
    "\n",
    "from rusenttokenize import ru_sent_tokenize\n",
    "\n",
    "with open('../../../тексты/Vlastelin-Kolets.txt', 'r', encoding='utf-8') as f:\n",
    "    ru_text = f.read()\n",
    "with open('../../../тексты/Un Cavallo nella luna.txt', 'r', encoding='utf-8') as f:\n",
    "    it_text = f.read()\n",
    "\n",
    "from tqdm.notebook import tqdm\n",
    "\n",
    "from nltk import DependencyGraph, Tree"
   ]
  },
  {
   "cell_type": "code",
   "execution_count": 3,
   "metadata": {
    "execution": {
     "iopub.execute_input": "2021-05-22T20:38:31.368710Z",
     "iopub.status.busy": "2021-05-22T20:38:31.368389Z",
     "iopub.status.idle": "2021-05-22T20:38:31.374660Z",
     "shell.execute_reply": "2021-05-22T20:38:31.373091Z",
     "shell.execute_reply.started": "2021-05-22T20:38:31.368675Z"
    },
    "id": "GOB2uewcKY49",
    "tags": []
   },
   "outputs": [],
   "source": [
    "UDPIPE_MODEL_FN_RUS = \"model_ru.udpipe\"\n",
    "# !wget -O {UDPIPE_MODEL_FN_RUS} 'https://github.com/jwijffels/udpipe.models.ud.2.0/blob/master/inst/udpipe-ud-2.0-170801/russian-ud-2.0-170801.udpipe?raw=true'\n",
    "UDPIPE_MODEL_FN_IT = \"model_it.udpipe\"\n",
    "# !wget -O {UDPIPE_MODEL_FN_IT} 'https://github.com/jwijffels/udpipe.models.ud.2.0/blob/master/inst/udpipe-ud-2.0-170801/italian-ud-2.0-170801.udpipe?raw=true'"
   ]
  },
  {
   "cell_type": "code",
   "execution_count": 4,
   "metadata": {
    "execution": {
     "iopub.execute_input": "2021-05-22T20:38:34.185856Z",
     "iopub.status.busy": "2021-05-22T20:38:34.185390Z",
     "iopub.status.idle": "2021-05-22T20:38:37.316560Z",
     "shell.execute_reply": "2021-05-22T20:38:37.315324Z",
     "shell.execute_reply.started": "2021-05-22T20:38:34.185802Z"
    },
    "id": "uwo-E2ObLAAD",
    "tags": []
   },
   "outputs": [],
   "source": [
    "model_rus = Model.load(UDPIPE_MODEL_FN_RUS)\n",
    "model_it = Model.load(UDPIPE_MODEL_FN_IT)"
   ]
  },
  {
   "cell_type": "code",
   "execution_count": 5,
   "metadata": {
    "execution": {
     "iopub.execute_input": "2021-05-22T20:38:39.707891Z",
     "iopub.status.busy": "2021-05-22T20:38:39.705947Z",
     "iopub.status.idle": "2021-05-22T20:38:39.722085Z",
     "shell.execute_reply": "2021-05-22T20:38:39.720280Z",
     "shell.execute_reply.started": "2021-05-22T20:38:39.707804Z"
    },
    "id": "vboFguAcLZQe",
    "tags": []
   },
   "outputs": [],
   "source": [
    "pipeline_ru = Pipeline(model_rus, 'generic_tokenizer', '','','')\n",
    "pipeline_it = Pipeline(model_it, 'generic_tokenizer', '','','')"
   ]
  },
  {
   "cell_type": "code",
   "execution_count": 19,
   "metadata": {
    "execution": {
     "iopub.execute_input": "2021-05-22T20:43:18.510116Z",
     "iopub.status.busy": "2021-05-22T20:43:18.509695Z",
     "iopub.status.idle": "2021-05-22T20:44:11.094699Z",
     "shell.execute_reply": "2021-05-22T20:44:11.093537Z",
     "shell.execute_reply.started": "2021-05-22T20:43:18.510068Z"
    },
    "tags": []
   },
   "outputs": [
    {
     "name": "stderr",
     "output_type": "stream",
     "text": [
      "WARNING:root:Something went wrong while tokenizing\n"
     ]
    }
   ],
   "source": [
    "sents_ru = ru_sent_tokenize(ru_text)"
   ]
  },
  {
   "cell_type": "code",
   "execution_count": 20,
   "metadata": {
    "execution": {
     "iopub.execute_input": "2021-05-22T20:44:12.984185Z",
     "iopub.status.busy": "2021-05-22T20:44:12.983271Z",
     "iopub.status.idle": "2021-05-22T20:44:12.994983Z",
     "shell.execute_reply": "2021-05-22T20:44:12.992819Z",
     "shell.execute_reply.started": "2021-05-22T20:44:12.984055Z"
    },
    "tags": []
   },
   "outputs": [
    {
     "data": {
      "text/plain": [
       "''"
      ]
     },
     "execution_count": 20,
     "metadata": {},
     "output_type": "execute_result"
    }
   ],
   "source": [
    "sents_ru.pop()"
   ]
  },
  {
   "cell_type": "code",
   "execution_count": 21,
   "metadata": {
    "execution": {
     "iopub.execute_input": "2021-05-22T20:44:13.755753Z",
     "iopub.status.busy": "2021-05-22T20:44:13.755367Z",
     "iopub.status.idle": "2021-05-22T20:44:13.782461Z",
     "shell.execute_reply": "2021-05-22T20:44:13.780807Z",
     "shell.execute_reply.started": "2021-05-22T20:44:13.755709Z"
    },
    "tags": []
   },
   "outputs": [],
   "source": [
    "sents_it = ru_sent_tokenize(it_text)"
   ]
  },
  {
   "cell_type": "code",
   "execution_count": 24,
   "metadata": {
    "execution": {
     "iopub.execute_input": "2021-05-22T20:44:56.190518Z",
     "iopub.status.busy": "2021-05-22T20:44:56.190178Z",
     "iopub.status.idle": "2021-05-22T20:45:02.937884Z",
     "shell.execute_reply": "2021-05-22T20:45:02.936460Z",
     "shell.execute_reply.started": "2021-05-22T20:44:56.190481Z"
    },
    "id": "DmVgwFZxLmJy",
    "tags": []
   },
   "outputs": [
    {
     "data": {
      "application/vnd.jupyter.widget-view+json": {
       "model_id": "e59ff20bce7f45e8a0dabf1c64fa7d3a",
       "version_major": 2,
       "version_minor": 0
      },
      "text/plain": [
       "HBox(children=(FloatProgress(value=0.0, max=400.0), HTML(value='')))"
      ]
     },
     "metadata": {},
     "output_type": "display_data"
    },
    {
     "name": "stdout",
     "output_type": "stream",
     "text": [
      "\n"
     ]
    },
    {
     "data": {
      "application/vnd.jupyter.widget-view+json": {
       "model_id": "0f68ebbfecbe4d26b31ff9859c4871a0",
       "version_major": 2,
       "version_minor": 0
      },
      "text/plain": [
       "HBox(children=(FloatProgress(value=0.0, max=142.0), HTML(value='')))"
      ]
     },
     "metadata": {},
     "output_type": "display_data"
    },
    {
     "name": "stdout",
     "output_type": "stream",
     "text": [
      "\n"
     ]
    }
   ],
   "source": [
    "N = 400\n",
    "parsed_ru = list(tqdm(map(pipeline_ru.process, sents_ru[N:N+N]), total=N))\n",
    "parsed_it = list(tqdm(map(pipeline_ru.process, sents_it), total=len(sents_it)))"
   ]
  },
  {
   "cell_type": "code",
   "execution_count": 25,
   "metadata": {
    "execution": {
     "iopub.execute_input": "2021-05-22T20:45:07.557491Z",
     "iopub.status.busy": "2021-05-22T20:45:07.557129Z",
     "iopub.status.idle": "2021-05-22T20:45:07.564907Z",
     "shell.execute_reply": "2021-05-22T20:45:07.563358Z",
     "shell.execute_reply.started": "2021-05-22T20:45:07.557453Z"
    },
    "id": "Eg8qHitA5spU",
    "tags": []
   },
   "outputs": [],
   "source": [
    "def to_depgraph(parser_result:list) -> str: \n",
    "# аргумент - это conllu-файл, который получили в результате синтаксического анализа \n",
    "    for sent in parser_result:\n",
    "        # убираем коменты\n",
    "        sent = '\\n'.join([line for line in sent.split('\\n') if not line.startswith('#')])\n",
    "        # заменяем регистр для root\n",
    "        sent = sent.replace('\\troot\\t', '\\tROOT\\t')\n",
    "        yield sent"
   ]
  },
  {
   "cell_type": "code",
   "execution_count": 26,
   "metadata": {
    "execution": {
     "iopub.execute_input": "2021-05-22T20:45:08.046051Z",
     "iopub.status.busy": "2021-05-22T20:45:08.045410Z",
     "iopub.status.idle": "2021-05-22T20:45:08.060245Z",
     "shell.execute_reply": "2021-05-22T20:45:08.059260Z",
     "shell.execute_reply.started": "2021-05-22T20:45:08.045989Z"
    },
    "tags": []
   },
   "outputs": [],
   "source": [
    "ru_ud = list(to_depgraph(parsed_ru))"
   ]
  },
  {
   "cell_type": "code",
   "execution_count": 27,
   "metadata": {
    "execution": {
     "iopub.execute_input": "2021-05-22T20:45:08.540289Z",
     "iopub.status.busy": "2021-05-22T20:45:08.539902Z",
     "iopub.status.idle": "2021-05-22T20:45:08.551419Z",
     "shell.execute_reply": "2021-05-22T20:45:08.550479Z",
     "shell.execute_reply.started": "2021-05-22T20:45:08.540245Z"
    },
    "tags": []
   },
   "outputs": [
    {
     "name": "stdout",
     "output_type": "stream",
     "text": [
      "1\tХоббиты\tХобБИТ\tNOUN\tNN\tAnimacy=Inan|Case=Nom|Gender=Masc|Number=Plur\t5\tnsubj\t_\t_\n",
      "2\tиз\tИЗ\tADP\tIN\t_\t4\tcase\t_\t_\n",
      "3\tЗападного\tЗАПАДНЫЙ\tADJ\tJJL\tAnimacy=Inan|Case=Gen|Gender=Masc|Number=Sing\t4\tamod\t_\t_\n",
      "4\tудела\tуДЕЛО\tNOUN\tNN\tAnimacy=Inan|Case=Gen|Gender=Masc|Number=Sing\t1\tnmod\t_\t_\n",
      "5\tговорили\tГОВОРИТЬ\tVERB\tVBC\tAspect=Imp|Mood=Ind|Number=Plur|Tense=Past|VerbForm=Fin\t0\tROOT\t_\tSpaceAfter=No\n",
      "6\t,\t,\tPUNCT\t,\t_\t7\tpunct\t_\t_\n",
      "7\tбудто\tБУДТО\tSCONJ\tIN\t_\t5\tobj\t_\t_\n",
      "8\tс\tС\tADP\tIN\t_\t9\tcase\t_\t_\n",
      "9\tвершины\tверШИНА\tNOUN\tNN\tAnimacy=Inan|Case=Gen|Gender=Fem|Number=Sing\t7\tnmod\t_\t_\n",
      "10\tэтой\tЭТОТ\tDET\tDT\tAnimacy=Inan|Case=Gen|Gender=Fem|Number=Sing\t11\tdet\t_\t_\n",
      "11\tбашни\tБАШНЯ\tNOUN\tNN\tAnimacy=Inan|Case=Gen|Gender=Fem|Number=Sing\t9\tnmod\t_\t_\n",
      "12\tвидно\tВИДНО\tADV\tRB\t_\t9\tnmod\t_\t_\n",
      "13\tМоре\tМОРЕ\tPROPN\tNNP\tAnimacy=Anim|Case=Gen|Gender=Masc|Number=Sing\t12\tnmod\t_\tSpaceAfter=No\n",
      "14\t;\t;\tPUNCT\t:\t_\t18\tpunct\t_\t_\n",
      "15\tно\tНО\tCCONJ\tCC\t_\t18\tcc\t_\tSpaceAfter=No\n",
      "16\t,\t,\tPUNCT\t,\t_\t18\tpunct\t_\t_\n",
      "17\tнасколько\tнасколько\tADV\tRB\t_\t18\tadvmod\t_\t_\n",
      "18\tизвестно\tИЗВЕСТНЫЙ\tADJ\tJJH\tAnimacy=Inan|Case=Nom|Gender=Neut|Number=Sing|Variant=Short\t5\tconj\t_\tSpaceAfter=No\n",
      "19\t,\t,\tPUNCT\t,\t_\t18\tpunct\t_\t_\n",
      "20\tна\tНА\tADP\tIN\t_\t21\tcase\t_\t_\n",
      "21\tвершине\tВЕРШИНА\tNOUN\tNN\tAnimacy=Inan|Case=Loc|Gender=Fem|Number=Sing\t27\tobl\t_\t_\n",
      "22\tбашни\tБАШНЯ\tNOUN\tNN\tAnimacy=Inan|Case=Gen|Gender=Fem|Number=Sing\t21\tnmod\t_\t_\n",
      "23\tни\tНИ\tPART\tNEG\tPolarity=Neg\t24\tadvmod\t_\t_\n",
      "24\tодин\tОДИН\tNUM\tCD\tAnimacy=Anim|Case=Nom|Gender=Masc|Number=Sing|NumType=Card\t25\tnummod\t_\t_\n",
      "25\tхоббит\tхобБИТ\tNOUN\tNN\tAnimacy=Anim|Case=Nom|Gender=Masc|Number=Sing\t27\tnsubj\t_\t_\n",
      "26\tне\tНЕ\tPART\tNEG\tPolarity=Neg\t27\tadvmod\t_\t_\n",
      "27\tбывал\tбывал\tVERB\tVBC\tAspect=Imp|Gender=Masc|Mood=Ind|Number=Sing|Tense=Past|VerbForm=Fin\t18\tparataxis\t_\tSpaceAfter=No\n",
      "28\t.\t.\tPUNCT\t.\t_\t5\tpunct\t_\tSpacesAfter=\\n\n",
      "\n",
      "\n"
     ]
    }
   ],
   "source": [
    "print(ru_ud[100])"
   ]
  },
  {
   "cell_type": "code",
   "execution_count": 37,
   "metadata": {
    "execution": {
     "iopub.execute_input": "2021-05-22T20:47:17.960608Z",
     "iopub.status.busy": "2021-05-22T20:47:17.959933Z",
     "iopub.status.idle": "2021-05-22T20:47:18.008182Z",
     "shell.execute_reply": "2021-05-22T20:47:17.999845Z",
     "shell.execute_reply.started": "2021-05-22T20:47:17.960543Z"
    },
    "tags": []
   },
   "outputs": [
    {
     "name": "stdout",
     "output_type": "stream",
     "text": [
      "                                                      говорили                                                          \n",
      "  _______________________________________________________|__________________________                                     \n",
      " |         |                        |                                            известно                               \n",
      " |         |                        |                     __________________________|___________                         \n",
      " |         |                      будто                  |      |   |      |        |         бывал                     \n",
      " |         |                ________|______              |      |   |      |        |       ____|___________________     \n",
      " |      Хоббиты            |            вершины          |      |   |      |        |      |           |          хоббит\n",
      " |         |               |    ___________|______       |      |   |      |        |      |           |            |    \n",
      " |       удела             |   |         башни  видно    |      |   |      |        |      |        вершине        один \n",
      " |    _____|________       |   |           |      |      |      |   |      |        |      |     ______|______      |    \n",
      " .   из         Западного  ,   с          этой   Море    ;      но  ,  насколько    ,      не   на          башни   ни  \n",
      "\n"
     ]
    }
   ],
   "source": [
    "ud_graph = DependencyGraph(tree_str=ru_ud[100])\n",
    "ud_tree = ud_graph.tree()\n",
    "\n",
    "ud_tree.pretty_print()"
   ]
  },
  {
   "cell_type": "code",
   "execution_count": 32,
   "metadata": {
    "execution": {
     "iopub.execute_input": "2021-05-22T20:45:44.877078Z",
     "iopub.status.busy": "2021-05-22T20:45:44.876708Z",
     "iopub.status.idle": "2021-05-22T20:45:44.885646Z",
     "shell.execute_reply": "2021-05-22T20:45:44.883804Z",
     "shell.execute_reply.started": "2021-05-22T20:45:44.877040Z"
    },
    "tags": []
   },
   "outputs": [],
   "source": [
    "it_ud = list(to_depgraph(parsed_it))"
   ]
  },
  {
   "cell_type": "code",
   "execution_count": 33,
   "metadata": {
    "execution": {
     "iopub.execute_input": "2021-05-22T20:45:45.554788Z",
     "iopub.status.busy": "2021-05-22T20:45:45.554420Z",
     "iopub.status.idle": "2021-05-22T20:45:45.565019Z",
     "shell.execute_reply": "2021-05-22T20:45:45.561758Z",
     "shell.execute_reply.started": "2021-05-22T20:45:45.554751Z"
    },
    "tags": []
   },
   "outputs": [
    {
     "data": {
      "text/plain": [
       "'1\\tPerchè\\tPerchè\\tPROPN\\tNNP\\tAnimacy=Anim|Case=Nom|Gender=Masc|Number=Sing\\t6\\tnsubj\\t_\\t_\\n2\\tti\\ttI\\tPRON\\tPRP\\tCase=Dat|Number=Sing|Person=2\\t4\\tnmod\\t_\\t_\\n3\\tscottano\\tscottanO\\tADV\\tRB\\t_\\t4\\tadvmod\\t_\\t_\\n4\\tcosì\\tcosì\\tPROPN\\tNNP\\tAnimacy=Anim|Case=Nom|Gender=Masc|Number=Sing\\t1\\tflat\\t_\\t_\\n5\\tle\\tle\\tADJ\\tJJ\\tAnimacy=Anim|Case=Nom|Number=Plur\\t4\\tamod\\t_\\t_\\n6\\tmani\\tmanI\\tADV\\tFW\\t_\\t0\\tROOT\\t_\\tSpaceAfter=No\\n7\\t?\\t?\\tPUNCT\\t.\\t_\\t6\\tpunct\\t_\\tSpacesAfter=\\\\n\\n\\n'"
      ]
     },
     "execution_count": 33,
     "metadata": {},
     "output_type": "execute_result"
    }
   ],
   "source": [
    "it_ud[15]"
   ]
  },
  {
   "cell_type": "code",
   "execution_count": 34,
   "metadata": {
    "execution": {
     "iopub.execute_input": "2021-05-22T20:45:52.246478Z",
     "iopub.status.busy": "2021-05-22T20:45:52.245553Z",
     "iopub.status.idle": "2021-05-22T20:45:52.297935Z",
     "shell.execute_reply": "2021-05-22T20:45:52.295770Z",
     "shell.execute_reply.started": "2021-05-22T20:45:52.246400Z"
    },
    "tags": []
   },
   "outputs": [
    {
     "name": "stdout",
     "output_type": "stream",
     "text": [
      "        mani             \n",
      "  _______|______          \n",
      " |            Perchè     \n",
      " |              |         \n",
      " |             così      \n",
      " |    __________|______   \n",
      " ?   ti      scottano  le\n",
      "\n"
     ]
    }
   ],
   "source": [
    "ud_graph = DependencyGraph(tree_str=it_ud[15])\n",
    "ud_tree = ud_graph.tree()\n",
    "\n",
    "ud_tree.pretty_print()"
   ]
  },
  {
   "cell_type": "code",
   "execution_count": 35,
   "metadata": {
    "execution": {
     "iopub.execute_input": "2021-05-22T20:46:21.201727Z",
     "iopub.status.busy": "2021-05-22T20:46:21.201404Z",
     "iopub.status.idle": "2021-05-22T20:46:21.212218Z",
     "shell.execute_reply": "2021-05-22T20:46:21.210473Z",
     "shell.execute_reply.started": "2021-05-22T20:46:21.201692Z"
    },
    "tags": []
   },
   "outputs": [
    {
     "data": {
      "text/plain": [
       "[(('mani', 'ADV'), 'nsubj', ('Perchè', 'PROPN')),\n",
       " (('Perchè', 'PROPN'), 'flat', ('così', 'PROPN')),\n",
       " (('così', 'PROPN'), 'nmod', ('ti', 'PRON')),\n",
       " (('così', 'PROPN'), 'advmod', ('scottano', 'ADV')),\n",
       " (('così', 'PROPN'), 'amod', ('le', 'ADJ')),\n",
       " (('mani', 'ADV'), 'punct', ('?', 'PUNCT'))]"
      ]
     },
     "execution_count": 35,
     "metadata": {},
     "output_type": "execute_result"
    }
   ],
   "source": [
    "list(DependencyGraph(tree_str=it_ud[15]).triples())"
   ]
  },
  {
   "cell_type": "code",
   "execution_count": 36,
   "metadata": {
    "colab": {
     "base_uri": "https://localhost:8080/"
    },
    "execution": {
     "iopub.execute_input": "2021-05-22T20:46:37.424095Z",
     "iopub.status.busy": "2021-05-22T20:46:37.423772Z",
     "iopub.status.idle": "2021-05-22T20:46:37.432004Z",
     "shell.execute_reply": "2021-05-22T20:46:37.430510Z",
     "shell.execute_reply.started": "2021-05-22T20:46:37.424060Z"
    },
    "id": "vWDgggTsYhWN",
    "outputId": "7441a725-e111-4ee4-882e-df3fb29cbc8f",
    "tags": []
   },
   "outputs": [
    {
     "name": "stdout",
     "output_type": "stream",
     "text": [
      "(('окутано', 'VERB'), 'iobj', ('тайной', 'NOUN'))\n",
      "(('тайной', 'NOUN'), 'amod', ('Великой', 'ADJ'))\n",
      "(('окутано', 'VERB'), 'nsubj:pass', ('происхождение', 'NOUN'))\n",
      "(('происхождение', 'NOUN'), 'nmod', ('обычая', 'NOUN'))\n",
      "(('обычая', 'NOUN'), 'det', ('этого', 'DET'))\n",
      "(('обычая', 'NOUN'), 'amod', ('странного', 'ADJ'))\n",
      "(('происхождение', 'NOUN'), 'conj', ('искусства', 'NOUN'))\n",
      "(('искусства', 'NOUN'), 'punct', (',', 'PUNCT'))\n",
      "(('искусства', 'NOUN'), 'cc', ('или', 'CCONJ'))\n",
      "(('искусства', 'NOUN'), 'punct', ('«', 'PUNCT'))\n",
      "(('происхождение', 'NOUN'), 'punct', ('»', 'PUNCT'))\n",
      "(('происхождение', 'NOUN'), 'punct', (',', 'PUNCT'))\n",
      "(('окутано', 'VERB'), 'obl', ('именуют', 'VERB'))\n",
      "(('именуют', 'VERB'), 'case', ('как', 'ADP'))\n",
      "(('именуют', 'VERB'), 'obj', ('хоббиты', 'NOUN'))\n",
      "(('хоббиты', 'NOUN'), 'det', ('его', 'DET'))\n",
      "(('окутано', 'VERB'), 'punct', ('.', 'PUNCT'))\n"
     ]
    }
   ],
   "source": [
    "for sent in ru_ud[120:121]:\n",
    "    for elem in DependencyGraph(tree_str=sent).triples():\n",
    "        print(elem)"
   ]
  },
  {
   "cell_type": "code",
   "execution_count": 41,
   "metadata": {
    "execution": {
     "iopub.execute_input": "2021-05-22T20:48:53.567957Z",
     "iopub.status.busy": "2021-05-22T20:48:53.567480Z",
     "iopub.status.idle": "2021-05-22T20:48:54.095879Z",
     "shell.execute_reply": "2021-05-22T20:48:54.094046Z",
     "shell.execute_reply.started": "2021-05-22T20:48:53.567902Z"
    },
    "tags": []
   },
   "outputs": [],
   "source": [
    "from pymorphy2 import MorphAnalyzer\n",
    "morph = MorphAnalyzer()"
   ]
  },
  {
   "cell_type": "code",
   "execution_count": 59,
   "metadata": {
    "execution": {
     "iopub.execute_input": "2021-05-22T20:51:55.167114Z",
     "iopub.status.busy": "2021-05-22T20:51:55.166728Z",
     "iopub.status.idle": "2021-05-22T20:51:55.175326Z",
     "shell.execute_reply": "2021-05-22T20:51:55.173745Z",
     "shell.execute_reply.started": "2021-05-22T20:51:55.167075Z"
    },
    "tags": []
   },
   "outputs": [],
   "source": [
    "def comp_verb(ud):\n",
    "    for sent in ud:\n",
    "        try:\n",
    "            for triple in DependencyGraph(tree_str=sent).triples():\n",
    "                if triple[0][1] == 'VERB' and triple[2][1] == 'VERB':\n",
    "                    if triple[1] == 'xcomp' and morph.parse(triple[2][0])[0].tag.POS == 'INFN':\n",
    "                        yield triple\n",
    "        except RecursionError:\n",
    "            pass"
   ]
  },
  {
   "cell_type": "code",
   "execution_count": 60,
   "metadata": {
    "execution": {
     "iopub.execute_input": "2021-05-22T20:51:55.715984Z",
     "iopub.status.busy": "2021-05-22T20:51:55.715211Z",
     "iopub.status.idle": "2021-05-22T20:52:07.056922Z",
     "shell.execute_reply": "2021-05-22T20:52:07.055958Z",
     "shell.execute_reply.started": "2021-05-22T20:51:55.715906Z"
    },
    "tags": []
   },
   "outputs": [
    {
     "data": {
      "text/plain": [
       "[(('хотели', 'VERB'), 'xcomp', ('знать', 'VERB')),\n",
       " (('привыкли', 'VERB'), 'xcomp', ('исчезать', 'VERB')),\n",
       " (('имели', 'VERB'), 'xcomp', ('прятаться', 'VERB')),\n",
       " (('могут', 'VERB'), 'xcomp', ('сравниться', 'VERB')),\n",
       " (('любили', 'VERB'), 'xcomp', ('принимать', 'VERB')),\n",
       " (('перебрались', 'VERB'), 'xcomp', ('понять', 'VERB')),\n",
       " (('думали', 'VERB'), 'xcomp', ('покидать', 'VERB')),\n",
       " (('освоили', 'VERB'), 'xcomp', ('быть', 'VERB')),\n",
       " (('стали', 'VERB'), 'xcomp', ('говорить', 'VERB')),\n",
       " (('стали', 'VERB'), 'xcomp', ('считать', 'VERB')),\n",
       " (('перестали', 'VERB'), 'xcomp', ('думать', 'VERB')),\n",
       " (('девать', 'VERB'), 'xcomp', ('выбросить', 'VERB')),\n",
       " (('может', 'VERB'), 'xcomp', ('Припугнуть', 'VERB')),\n",
       " (('может', 'VERB'), 'xcomp', ('статься', 'VERB')),\n",
       " (('можно', 'VERB'), 'xcomp', ('подумать', 'VERB')),\n",
       " (('надо', 'VERB'), 'xcomp', ('удирать', 'VERB')),\n",
       " (('пришлось', 'VERB'), 'xcomp', ('привыкать', 'VERB')),\n",
       " (('начали', 'VERB'), 'xcomp', ('строить', 'VERB')),\n",
       " (('научились', 'VERB'), 'xcomp', ('строить', 'VERB')),\n",
       " (('могли', 'VERB'), 'xcomp', ('научиться', 'VERB')),\n",
       " (('умел', 'VERB'), 'xcomp', ('плавать', 'VERB')),\n",
       " (('научились', 'VERB'), 'xcomp', ('строить', 'VERB')),\n",
       " (('придется', 'VERB'), 'xcomp', ('процитировать', 'VERB')),\n",
       " (('разумеется', 'VERB'), 'xcomp', ('курить', 'VERB')),\n",
       " (('пришло', 'VERB'), 'xcomp', ('курить', 'VERB')),\n",
       " (('стремятся', 'VERB'), 'xcomp', ('опередить', 'VERB')),\n",
       " (('следует', 'VERB'), 'xcomp', ('признать', 'VERB')),\n",
       " (('могли', 'VERB'), 'xcomp', ('занести', 'VERB')),\n",
       " (('надумали', 'VERB'), 'xcomp', ('курить', 'VERB')),\n",
       " (('называли', 'VERB'), 'xcomp', ('сказать', 'VERB')),\n",
       " (('поручалось', 'VERB'), 'xcomp', ('обхаживать', 'VERB')),\n",
       " (('принято', 'VERB'), 'xcomp', ('доживать', 'VERB')),\n",
       " (('отправился', 'VERB'), 'xcomp', ('возвращать', 'VERB')),\n",
       " (('удалось', 'VERB'), 'xcomp', ('избавиться', 'VERB')),\n",
       " (('удавалось', 'VERB'), 'xcomp', ('поймать', 'VERB')),\n",
       " (('шел', 'VERB'), 'xcomp', ('охотиться', 'VERB')),\n",
       " (('предложил', 'VERB'), 'xcomp', ('сыграть', 'VERB')),\n",
       " (('можно', 'VERB'), 'xcomp', ('считать', 'VERB')),\n",
       " (('взялся', 'VERB'), 'xcomp', ('отвечать', 'VERB')),\n",
       " (('поспешил', 'VERB'), 'xcomp', ('убить', 'VERB')),\n",
       " (('хотел', 'VERB'), 'xcomp', ('заколоть', 'VERB')),\n",
       " (('оставил', 'VERB'), 'xcomp', ('надеяться', 'VERB')),\n",
       " (('равно', 'VERB'), 'xcomp', ('выбраться', 'VERB')),\n",
       " (('заставил', 'VERB'), 'xcomp', ('показать', 'VERB')),\n",
       " (('захотели', 'VERB'), 'xcomp', ('исправлять', 'VERB')),\n",
       " (('принялся', 'VERB'), 'xcomp', ('выдумывать', 'VERB')),\n",
       " (('собрался', 'VERB'), 'xcomp', ('праздновать', 'VERB')),\n",
       " (('стали', 'VERB'), 'xcomp', ('говорить', 'VERB')),\n",
       " (('было', 'VERB'), 'xcomp', ('брать', 'VERB')),\n",
       " (('поехали', 'VERB'), 'xcomp', ('погулять', 'VERB')),\n",
       " (('пошел', 'VERB'), 'xcomp', ('чесать', 'VERB')),\n",
       " (('придумал', 'VERB'), 'xcomp', ('забрать', 'VERB')),\n",
       " (('собрались', 'VERB'), 'xcomp', ('захапать', 'VERB')),\n",
       " (('старится', 'VERB'), 'xcomp', ('жить', 'VERB')),\n",
       " (('жить', 'VERB'), 'xcomp', ('поживать', 'VERB')),\n",
       " (('помогал', 'VERB'), 'xcomp', ('гонять', 'VERB')),\n",
       " (('прибавил', 'VERB'), 'xcomp', ('повторить', 'VERB')),\n",
       " (('пришлось', 'VERB'), 'xcomp', ('набирать', 'VERB')),\n",
       " (('перестал', 'VERB'), 'xcomp', ('притворяться', 'VERB')),\n",
       " (('забыли', 'VERB'), 'xcomp', ('пригласить', 'VERB')),\n",
       " (('выбирался', 'VERB'), 'xcomp', ('получить', 'VERB')),\n",
       " (('может', 'VERB'), 'xcomp', ('рассчитывать', 'VERB')),\n",
       " (('позабыли', 'VERB'), 'xcomp', ('угощаться', 'VERB'))]"
      ]
     },
     "execution_count": 60,
     "metadata": {},
     "output_type": "execute_result"
    }
   ],
   "source": [
    "list(comp_verb(ru_ud))"
   ]
  }
 ],
 "metadata": {
  "colab": {
   "name": "Syntax_parsing_hw.ipynb",
   "provenance": []
  },
  "kernelspec": {
   "display_name": "Python 3",
   "language": "python",
   "name": "python3"
  },
  "language_info": {
   "codemirror_mode": {
    "name": "ipython",
    "version": 3
   },
   "file_extension": ".py",
   "mimetype": "text/x-python",
   "name": "python",
   "nbconvert_exporter": "python",
   "pygments_lexer": "ipython3",
   "version": "3.8.8"
  }
 },
 "nbformat": 4,
 "nbformat_minor": 4
}
